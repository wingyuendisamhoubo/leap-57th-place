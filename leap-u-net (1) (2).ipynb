{
 "cells": [
  {
   "cell_type": "markdown",
   "id": "619c224f",
   "metadata": {
    "papermill": {
     "duration": 0.010739,
     "end_time": "2024-07-08T02:14:19.808890",
     "exception": false,
     "start_time": "2024-07-08T02:14:19.798151",
     "status": "completed"
    },
    "tags": []
   },
   "source": [
    "The overall architecture is copied from the code in this Kaggle notebook.\n",
    "https://www.kaggle.com/code/abiolatti/keras-baseline-seq2seq?scriptVersionId=180403717\n",
    "\n",
    "\n",
    "The model architecture is based on the paper discussed in this Kaggle discussion and is detailed in this arXiv paper.\n",
    "\n",
    "https://www.kaggle.com/competitions/leap-atmospheric-physics-ai-climsim/discussion/516605\n",
    "https://arxiv.org/abs/2407.00124\n",
    "\n",
    "I trained the model for 22 epochs. It achieved its highest performance at epoch 20 but showed signs of overfitting afterward."
   ]
  },
  {
   "cell_type": "code",
   "execution_count": 1,
   "id": "64046114",
   "metadata": {
    "papermill": {
     "duration": 12.697532,
     "end_time": "2024-07-08T02:14:32.516778",
     "exception": false,
     "start_time": "2024-07-08T02:14:19.819246",
     "status": "completed"
    },
    "tags": []
   },
   "outputs": [
    {
     "name": "stderr",
     "output_type": "stream",
     "text": [
      "2024-07-15 10:01:32.223329: W tensorflow/compiler/tf2tensorrt/utils/py_utils.cc:38] TF-TRT Warning: Could not find TensorRT\n",
      "/root/miniconda3/envs/tf/lib/python3.11/site-packages/tqdm/auto.py:21: TqdmWarning: IProgress not found. Please update jupyter and ipywidgets. See https://ipywidgets.readthedocs.io/en/stable/user_install.html\n",
      "  from .autonotebook import tqdm as notebook_tqdm\n"
     ]
    },
    {
     "name": "stdout",
     "output_type": "stream",
     "text": [
      "2.16.1\n",
      "0.4.30\n"
     ]
    }
   ],
   "source": [
    "import os\n",
    "os.environ[\"KERAS_BACKEND\"] = \"jax\"\n",
    "\n",
    "import gc\n",
    "import numpy as np\n",
    "import pandas as pd\n",
    "import polars as pl\n",
    "import matplotlib.pyplot as plt\n",
    " \n",
    "from keras.regularizers import l2\n",
    "\n",
    "import tensorflow as tf\n",
    "import jax\n",
    "import keras\n",
    "from keras.layers import Conv1D, GroupNormalization, Activation\n",
    "import keras_nlp\n",
    "\n",
    "from sklearn import metrics\n",
    "\n",
    "from tqdm.notebook import tqdm\n",
    "\n",
    "print(tf.__version__)\n",
    "print(jax.__version__)"
   ]
  },
  {
   "cell_type": "code",
   "execution_count": 2,
   "id": "2553e386",
   "metadata": {
    "papermill": {
     "duration": 0.018104,
     "end_time": "2024-07-08T02:14:32.546383",
     "exception": false,
     "start_time": "2024-07-08T02:14:32.528279",
     "status": "completed"
    },
    "tags": []
   },
   "outputs": [
    {
     "name": "stdout",
     "output_type": "stream",
     "text": [
      "Interactive? True\n"
     ]
    }
   ],
   "source": [
    "def is_interactive():\n",
    "    return 'runtime' in get_ipython().config.IPKernelApp.connection_file\n",
    "\n",
    "print('Interactive?', is_interactive())"
   ]
  },
  {
   "cell_type": "code",
   "execution_count": 3,
   "id": "39e162bd",
   "metadata": {
    "papermill": {
     "duration": 0.017954,
     "end_time": "2024-07-08T02:14:32.575608",
     "exception": false,
     "start_time": "2024-07-08T02:14:32.557654",
     "status": "completed"
    },
    "tags": []
   },
   "outputs": [],
   "source": [
    "isTrain = True\n",
    "SEED = 3407\n",
    "keras.utils.set_random_seed(SEED)\n",
    "tf.random.set_seed(SEED)\n",
    "tf.config.experimental.enable_op_determinism()"
   ]
  },
  {
   "cell_type": "code",
   "execution_count": 4,
   "id": "db477461",
   "metadata": {
    "papermill": {
     "duration": 0.019069,
     "end_time": "2024-07-08T02:14:32.605730",
     "exception": false,
     "start_time": "2024-07-08T02:14:32.586661",
     "status": "completed"
    },
    "tags": []
   },
   "outputs": [],
   "source": [
    "DATA = \"autodl-tmp/kaggle/input\"\n",
    "DATA_TFREC = \"autodl-tmp/archive\"\n",
    "model_path = \"model.keras\""
   ]
  },
  {
   "cell_type": "code",
   "execution_count": 5,
   "id": "55f31219",
   "metadata": {
    "papermill": {
     "duration": 0.120421,
     "end_time": "2024-07-08T02:14:32.738190",
     "exception": false,
     "start_time": "2024-07-08T02:14:32.617769",
     "status": "completed"
    },
    "tags": []
   },
   "outputs": [
    {
     "name": "stdout",
     "output_type": "stream",
     "text": [
      "368\n"
     ]
    }
   ],
   "source": [
    "sample = pl.read_csv(os.path.join(DATA, \"sample_submission.csv\"), n_rows=1)\n",
    "TARGETS = sample.select(pl.exclude('sample_id')).columns\n",
    "print(len(TARGETS))"
   ]
  },
  {
   "cell_type": "code",
   "execution_count": 6,
   "id": "6ac6c7a6",
   "metadata": {
    "papermill": {
     "duration": 0.01787,
     "end_time": "2024-07-08T02:14:32.767335",
     "exception": false,
     "start_time": "2024-07-08T02:14:32.749465",
     "status": "completed"
    },
    "tags": []
   },
   "outputs": [],
   "source": [
    "def _parse_function(example_proto):\n",
    "    feature_description = {\n",
    "        'x': tf.io.FixedLenFeature([556], tf.float32),\n",
    "        'targets': tf.io.FixedLenFeature([368], tf.float32)\n",
    "    }\n",
    "    e = tf.io.parse_single_example(example_proto, feature_description)\n",
    "    return e['x'], e['targets']"
   ]
  },
  {
   "cell_type": "code",
   "execution_count": 7,
   "id": "f8f49676",
   "metadata": {
    "papermill": {
     "duration": 0.019022,
     "end_time": "2024-07-08T02:14:32.796721",
     "exception": false,
     "start_time": "2024-07-08T02:14:32.777699",
     "status": "completed"
    },
    "tags": []
   },
   "outputs": [],
   "source": [
    "train_files = [os.path.join(DATA_TFREC, \"train_%.3d.tfrec\" % i) for i in range(100)]\n",
    "valid_files = [os.path.join(DATA_TFREC, \"train_%.3d.tfrec\" % i) for i in range(100, 101)]"
   ]
  },
  {
   "cell_type": "code",
   "execution_count": 8,
   "id": "f1dcb954",
   "metadata": {
    "papermill": {
     "duration": 2.095406,
     "end_time": "2024-07-08T02:14:34.902485",
     "exception": false,
     "start_time": "2024-07-08T02:14:32.807079",
     "status": "completed"
    },
    "tags": []
   },
   "outputs": [
    {
     "name": "stderr",
     "output_type": "stream",
     "text": [
      "2024-07-15 10:01:47.852221: W tensorflow/core/common_runtime/gpu/gpu_bfc_allocator.cc:47] Overriding orig_value setting because the TF_FORCE_GPU_ALLOW_GROWTH environment variable is set. Original config value was 0.\n"
     ]
    }
   ],
   "source": [
    "BATCH_SIZE = 512\n",
    "\n",
    "train_options = tf.data.Options()\n",
    "train_options.deterministic = True\n",
    "\n",
    "ds_train = (\n",
    "    tf.data.Dataset.from_tensor_slices(train_files)\n",
    "    .with_options(train_options)\n",
    "    .shuffle(100)\n",
    "    .interleave(\n",
    "        lambda file: tf.data.TFRecordDataset(file).map(_parse_function, num_parallel_calls=tf.data.AUTOTUNE),\n",
    "        num_parallel_calls=tf.data.AUTOTUNE,\n",
    "        cycle_length=10,\n",
    "        block_length=1000,\n",
    "        deterministic=True\n",
    "    )\n",
    "    .shuffle(4 * BATCH_SIZE)\n",
    "    .batch(BATCH_SIZE)\n",
    "    .prefetch(tf.data.AUTOTUNE)\n",
    ")\n",
    "\n",
    "ds_valid = (\n",
    "    tf.data.TFRecordDataset(valid_files)\n",
    "    .map(_parse_function)\n",
    "    .batch(BATCH_SIZE)\n",
    "    .prefetch(tf.data.AUTOTUNE)\n",
    ")"
   ]
  },
  {
   "cell_type": "code",
   "execution_count": 9,
   "id": "23cbc31f",
   "metadata": {
    "papermill": {
     "duration": 103.132582,
     "end_time": "2024-07-08T02:16:18.046779",
     "exception": false,
     "start_time": "2024-07-08T02:14:34.914197",
     "status": "completed"
    },
    "tags": []
   },
   "outputs": [
    {
     "name": "stderr",
     "output_type": "stream",
     "text": [
      "2024-07-15 10:03:07.108483: W tensorflow/core/framework/local_rendezvous.cc:404] Local rendezvous is aborting with status: OUT_OF_RANGE: End of sequence\n"
     ]
    },
    {
     "data": {
      "image/png": "[encoded data removed]",
      "text/plain": [
       "<Figure size 640x480 with 1 Axes>"
      ]
     },
     "metadata": {},
     "output_type": "display_data"
    }
   ],
   "source": [
    "norm_x = keras.layers.Normalization()\n",
    "norm_x.adapt(ds_train.map(lambda x, y: x))\n",
    "\n",
    "plt.scatter(\n",
    "    norm_x.mean.squeeze(),\n",
    "    norm_x.variance.squeeze() ** 0.5,\n",
    "    marker=\".\",\n",
    "    alpha=0.5\n",
    ")\n",
    "plt.xscale('log')\n",
    "plt.yscale('log')"
   ]
  },
  {
   "cell_type": "code",
   "execution_count": 10,
   "id": "3fad5e7c",
   "metadata": {
    "papermill": {
     "duration": 98.028358,
     "end_time": "2024-07-08T02:17:56.085699",
     "exception": false,
     "start_time": "2024-07-08T02:16:18.057341",
     "status": "completed"
    },
    "tags": []
   },
   "outputs": [
    {
     "name": "stderr",
     "output_type": "stream",
     "text": [
      "2024-07-15 10:06:21.105344: W tensorflow/core/framework/local_rendezvous.cc:404] Local rendezvous is aborting with status: OUT_OF_RANGE: End of sequence\n"
     ]
    },
    {
     "data": {
      "image/png": "[encoded data removed]",
      "text/plain": [
       "<Figure size 640x480 with 1 Axes>"
      ]
     },
     "metadata": {},
     "output_type": "display_data"
    }
   ],
   "source": [
    "norm_y = keras.layers.Normalization()\n",
    "norm_y.adapt(ds_train.map(lambda x, y: y))\n",
    "\n",
    "mean_y = norm_y.mean\n",
    "stdd_y = keras.ops.maximum(1e-20, norm_y.variance ** 0.5)\n",
    "\n",
    "plt.scatter(\n",
    "    mean_y.squeeze(),\n",
    "    stdd_y.squeeze(),\n",
    "    marker=\".\",\n",
    "    alpha=0.5\n",
    ")\n",
    "plt.xscale('log')\n",
    "plt.yscale('log')\n"
   ]
  },
  {
   "cell_type": "code",
   "execution_count": 11,
   "id": "89f20fe0",
   "metadata": {
    "papermill": {
     "duration": 177.591487,
     "end_time": "2024-07-08T02:20:53.688157",
     "exception": false,
     "start_time": "2024-07-08T02:17:56.096670",
     "status": "completed"
    },
    "tags": []
   },
   "outputs": [
    {
     "name": "stderr",
     "output_type": "stream",
     "text": [
      "2024-07-15 10:06:29.749682: W tensorflow/core/framework/local_rendezvous.cc:404] Local rendezvous is aborting with status: OUT_OF_RANGE: End of sequence\n",
      "2024-07-15 10:06:30.475199: W tensorflow/core/framework/local_rendezvous.cc:404] Local rendezvous is aborting with status: OUT_OF_RANGE: End of sequence\n"
     ]
    }
   ],
   "source": [
    "min_y = np.min(np.stack([np.min(yb, 0) for _, yb in ds_train.take(20 if is_interactive() else 10000)], 0), 0, keepdims=True)\n",
    "max_y = np.max(np.stack([np.max(yb, 0) for _, yb in ds_train.take(20 if is_interactive() else 10000)], 0), 0, keepdims=True)"
   ]
  },
  {
   "cell_type": "markdown",
   "id": "786f6e2f",
   "metadata": {
    "papermill": {
     "duration": 0.010747,
     "end_time": "2024-07-08T02:20:53.710791",
     "exception": false,
     "start_time": "2024-07-08T02:20:53.700044",
     "status": "completed"
    },
    "tags": []
   },
   "source": [
    "### Model definition & Training"
   ]
  },
  {
   "cell_type": "code",
   "execution_count": 12,
   "id": "d9000595",
   "metadata": {
    "papermill": {
     "duration": 0.018796,
     "end_time": "2024-07-08T02:20:53.740508",
     "exception": false,
     "start_time": "2024-07-08T02:20:53.721712",
     "status": "completed"
    },
    "tags": []
   },
   "outputs": [],
   "source": [
    "epochs = 15 \n",
    "    \n",
    "learning_rate = 1e-3\n",
    "early_patience = 5\n",
    "# epochs_warmup = 1\n",
    "# epochs_ending = 2\n",
    "# steps_per_epoch = int(np.ceil(len(train_files) * 100_000 / BATCH_SIZE))\n",
    "\n",
    "# lr_scheduler = keras.optimizers.schedules.CosineDecay(\n",
    "#     1e-4, \n",
    "#     (epochs - epochs_warmup - epochs_ending) * steps_per_epoch, \n",
    "#     warmup_target=learning_rate,\n",
    "#     warmup_steps=steps_per_epoch * epochs_warmup,\n",
    "#     alpha=0.1\n",
    "# )\n",
    "\n",
    "# plt.plot([lr_scheduler(it) for it in range(0, epochs * steps_per_epoch, steps_per_epoch)]);"
   ]
  },
  {
   "cell_type": "code",
   "execution_count": 13,
   "id": "d1920c86-bb45-4c29-b77b-a60a1b935e8a",
   "metadata": {},
   "outputs": [],
   "source": [
    "@keras.saving.register_keras_serializable(package=\"MyMetrics\", name=\"ClippedR2Score\")\n",
    "class ClippedR2Score(keras.metrics.Metric):\n",
    "    def __init__(self, name='r2_score', **kwargs):\n",
    "        super().__init__(name=name, **kwargs)\n",
    "        self.base_metric = keras.metrics.R2Score(class_aggregation=None)\n",
    "        \n",
    "    def update_state(self, y_true, y_pred, sample_weight=None):\n",
    "        self.base_metric.update_state(y_true, y_pred, sample_weight=None)\n",
    "        \n",
    "    def result(self):\n",
    "        return keras.ops.mean(keras.ops.clip(self.base_metric.result(), 0.0, 1.0))\n",
    "        \n",
    "    def reset_states(self):\n",
    "        self.base_metric.reset_states()"
   ]
  },
  {
   "cell_type": "code",
   "execution_count": 67,
   "id": "0399ffd8-a77c-42cb-8d0f-a9824e358485",
   "metadata": {},
   "outputs": [
    {
     "data": {
      "image/png": "[encoded data removed]",
      "text/plain": [
       "<Figure size 640x480 with 1 Axes>"
      ]
     },
     "metadata": {},
     "output_type": "display_data"
    }
   ],
   "source": [
    "epochs = 15\n",
    "learning_rate = 3e-4\n",
    "\n",
    "epochs_warmup = 1\n",
    "epochs_ending = 2\n",
    "steps_per_epoch = int(np.ceil(len(train_files) * 100_000 / BATCH_SIZE))\n",
    "\n",
    "lr_scheduler = keras.optimizers.schedules.CosineDecay(\n",
    "    1e-6, \n",
    "    (epochs - epochs_warmup - epochs_ending) * steps_per_epoch, \n",
    "    warmup_target=learning_rate,\n",
    "    warmup_steps=steps_per_epoch * epochs_warmup,\n",
    "    alpha=0.1\n",
    ")\n",
    "\n",
    "plt.plot([lr_scheduler(it) for it in range(0, epochs * steps_per_epoch, steps_per_epoch)]);"
   ]
  },
  {
   "cell_type": "code",
   "execution_count": 15,
   "id": "ff83dc13",
   "metadata": {
    "papermill": {
     "duration": 0.025032,
     "end_time": "2024-07-08T02:20:53.776375",
     "exception": false,
     "start_time": "2024-07-08T02:20:53.751343",
     "status": "completed"
    },
    "tags": []
   },
   "outputs": [],
   "source": [
    "import tensorflow as tf\n",
    "from tensorflow.keras.layers import LayerNormalization, MultiHeadAttention, Dense, Dropout\n",
    "\n",
    "@keras.saving.register_keras_serializable()\n",
    "class TransformerEncoderLayer(tf.keras.layers.Layer):\n",
    "    def __init__(self, head_size, num_heads, ff_dim, dropout=0.1, **kwargs):\n",
    "        super(TransformerEncoderLayer, self).__init__(**kwargs)\n",
    "        self.att = MultiHeadAttention(key_dim=head_size, num_heads=num_heads, dropout=dropout)\n",
    "        self.ffn = tf.keras.Sequential([\n",
    "            Dense(ff_dim, activation='gelu'),\n",
    "            Dense(25)\n",
    "        ])\n",
    "        self.layernorm1 = LayerNormalization(epsilon=1e-6)\n",
    "        self.layernorm2 = LayerNormalization(epsilon=1e-6)\n",
    "        self.dropout1 = Dropout(dropout)\n",
    "        self.dropout2 = Dropout(dropout)\n",
    "\n",
    "    def call(self, inputs, training=False):\n",
    "        attn_output = self.att(inputs, inputs)\n",
    "        attn_output = self.dropout1(attn_output, training=training)\n",
    "        out1 = self.layernorm1(inputs + attn_output)\n",
    "\n",
    "        ffn_output = self.ffn(out1)\n",
    "        ffn_output = self.dropout2(ffn_output, training=training)\n",
    "        return self.layernorm2(out1 + ffn_output) "
   ]
  },
  {
   "cell_type": "code",
   "execution_count": 16,
   "id": "1b0150cc",
   "metadata": {
    "papermill": {
     "duration": 0.030565,
     "end_time": "2024-07-08T02:20:53.817763",
     "exception": false,
     "start_time": "2024-07-08T02:20:53.787198",
     "status": "completed"
    },
    "tags": []
   },
   "outputs": [],
   "source": [
    "# Transformer block\n",
    "@keras.saving.register_keras_serializable()\n",
    "def transformer_block(inputs, head_size, num_heads, ff_dim, dropout=0.2):\n",
    "    attention_output = tf.keras.layers.MultiHeadAttention(key_dim=head_size, num_heads=num_heads, dropout=dropout)(inputs, inputs)\n",
    "    attention_output = tf.keras.layers.Dropout(dropout)(attention_output)\n",
    "    attention_output = tf.keras.layers.LayerNormalization(epsilon=1e-6)(attention_output + inputs)\n",
    "\n",
    "    ff_output = tf.keras.layers.Dense(ff_dim, activation='gelu')(attention_output)\n",
    "    ff_output = tf.keras.layers.Dropout(dropout)(ff_output)\n",
    "    ff_output = tf.keras.layers.Dense(inputs.shape[-1])(ff_output)\n",
    "    ff_output = tf.keras.layers.LayerNormalization(epsilon=1e-6)(ff_output + attention_output)\n",
    "\n",
    "    return ff_output\n",
    "\n",
    "# Transformer_CA block\n",
    "@keras.saving.register_keras_serializable()\n",
    "def transformer_CA_block(inputs, skip_features, head_size, num_heads, ff_dim, dropout=0.2):\n",
    "    attention_output = tf.keras.layers.MultiHeadAttention(key_dim=head_size, num_heads=num_heads, dropout=dropout)(skip_features, inputs)\n",
    "    attention_output = tf.keras.layers.Dropout(dropout)(attention_output)\n",
    "    attention_output = tf.keras.layers.LayerNormalization(epsilon=1e-6)(attention_output + skip_features)\n",
    "\n",
    "    ff_output = tf.keras.layers.Dense(ff_dim, activation='gelu')(attention_output)\n",
    "    ff_output = tf.keras.layers.Dropout(dropout)(ff_output)\n",
    "    ff_output = tf.keras.layers.Dense(inputs.shape[-1])(ff_output)\n",
    "    ff_output = tf.keras.layers.LayerNormalization(epsilon=1e-6)(ff_output + attention_output)\n",
    "\n",
    "    return ff_output\n",
    "\n",
    "# ResBlock function\n",
    "@keras.saving.register_keras_serializable()\n",
    "def res_block(x, filters, output_filters=None, groups=8):\n",
    "    if output_filters is None:\n",
    "        output_filters = filters\n",
    "    norm1 = GroupNormalization(groups=groups, axis=-1)(x)\n",
    "    silu1 = tf.keras.layers.Activation('swish')(norm1)\n",
    "    conv1 = tf.keras.layers.Conv1D(filters, kernel_size=3, padding='same')(silu1)\n",
    "\n",
    "    norm2 = GroupNormalization(groups=groups, axis=-1)(conv1)\n",
    "    silu2 = tf.keras.layers.Activation('swish')(norm2)\n",
    "    conv2 = tf.keras.layers.Conv1D(output_filters, kernel_size=3, padding='same')(silu2)\n",
    "\n",
    "    if x.shape[-1] != conv2.shape[-1]:\n",
    "        x = tf.keras.layers.Conv1D(output_filters, kernel_size=1, padding='same')(x)\n",
    "    x = tf.keras.layers.Add()([conv2, x])\n",
    "    norm3 = GroupNormalization(groups=groups, axis=-1)(x)\n",
    "    return norm3\n",
    "\n",
    "# Downsample block\n",
    "@keras.saving.register_keras_serializable()\n",
    "def repeat_block(x, filters, repeat):\n",
    "    for _ in range(repeat):\n",
    "        x = res_block(x, filters) \n",
    "    return x\n",
    "\n",
    "# Upsample block\n",
    "@keras.saving.register_keras_serializable()\n",
    "def upsample_block(x, filters, repeat, concat_layer):\n",
    "    num_heads = filters // 4\n",
    "    concat_layer = transformer_CA_block(x, concat_layer, head_size=4, num_heads=num_heads, ff_dim=filters*2)\n",
    "    x = tf.keras.layers.Conv1DTranspose(filters, kernel_size=2, strides=2, padding='same')(x)\n",
    "    x = tf.keras.layers.Concatenate()([x, concat_layer])\n",
    "    for _ in range(repeat):\n",
    "        x = res_block(x, filters)\n",
    "    return x\n",
    "\n",
    "# Define a custom Lambda function to print and remove specific data slices\n",
    "# TPU does not support printing in this manner, for compatibility, direct value retrieval is used instead.\n",
    "# This function was previously used but later removed. Hence, there might be inconsistencies.\n",
    "@keras.saving.register_keras_serializable()\n",
    "def slice_and_print(x):\n",
    "    # Print the first 2 time steps that are being removed\n",
    "    tf.print(\"Removed start:\", x[:, :2, :], summarize=-1)\n",
    "    # Print the last 2 time steps that are being removed\n",
    "    tf.print(\"Removed end:\", x[:, -2:, :], summarize=-1)\n",
    "    # Return the data after removing the padding from the start and end\n",
    "    return x[:, 2:-2, :] "
   ]
  },
  {
   "cell_type": "code",
   "execution_count": 73,
   "id": "42bf4e85-fcdc-4525-92e6-06f6d9d0c540",
   "metadata": {},
   "outputs": [
    {
     "name": "stdout",
     "output_type": "stream",
     "text": [
      "Loading model from model_epoch_01.keras\n",
      "CPU times: user 4.39 s, sys: 1.29 s, total: 5.68 s\n",
      "Wall time: 5.4 s\n"
     ]
    }
   ],
   "source": [
    "%%time\n",
    "# Path to the model file\n",
    "model_filepath = 'model_epoch_01.keras'\n",
    "\n",
    "# Check if the model file exists\n",
    "if os.path.exists(model_filepath):\n",
    "    print(f\"Loading model from {model_filepath}\")\n",
    "    keras.utils.clear_session()\n",
    "    custom_objects = {\n",
    "        'R2Score': tf.keras.metrics.R2Score(class_aggregation=\"variance_weighted_average\"),\n",
    "    }\n",
    "    model = keras.models.load_model(model_filepath, custom_objects)\n",
    "else:\n",
    "    print(\"Saved model not found, training a new model\")"
   ]
  },
  {
   "attachments": {
    "a51dd9bf-b4b1-429e-b6f4-518d9414a419.png": {
     "image/png": "[encoded data removed]"
    }
   },
   "cell_type": "markdown",
   "id": "90d34667",
   "metadata": {
    "papermill": {
     "duration": 0.010522,
     "end_time": "2024-07-08T02:20:53.839102",
     "exception": false,
     "start_time": "2024-07-08T02:20:53.828580",
     "status": "completed"
    },
    "tags": []
   },
   "source": [
    "![image.png](attachment:a51dd9bf-b4b1-429e-b6f4-518d9414a419.png)"
   ]
  },
  {
   "cell_type": "code",
   "execution_count": 68,
   "id": "20ea1261",
   "metadata": {
    "_kg_hide-output": true,
    "papermill": {
     "duration": 11.95083,
     "end_time": "2024-07-08T02:21:05.800644",
     "exception": false,
     "start_time": "2024-07-08T02:20:53.849814",
     "status": "completed"
    },
    "tags": []
   },
   "outputs": [
    {
     "name": "stdout",
     "output_type": "stream",
     "text": [
      "(None, 60, 14)\n"
     ]
    },
    {
     "data": {
      "text/html": [
       "<pre style=\"white-space:pre;overflow-x:auto;line-height:normal;font-family:Menlo,'DejaVu Sans Mono',consolas,'Courier New',monospace\"><span style=\"font-weight: bold\">Model: \"functional_3\"</span>\n",
       "</pre>\n"
      ],
      "text/plain": [
       "\u001b[1mModel: \"functional_3\"\u001b[0m\n"
      ]
     },
     "metadata": {},
     "output_type": "display_data"
    },
    {
     "data": {
      "text/html": [
       "<pre style=\"white-space:pre;overflow-x:auto;line-height:normal;font-family:Menlo,'DejaVu Sans Mono',consolas,'Courier New',monospace\">┏━━━━━━━━━━━━━━━━━━━━━┳━━━━━━━━━━━━━━━━━━━┳━━━━━━━━━━━━┳━━━━━━━━━━━━━━━━━━━┓\n",
       "┃<span style=\"font-weight: bold\"> Layer (type)        </span>┃<span style=\"font-weight: bold\"> Output Shape      </span>┃<span style=\"font-weight: bold\">    Param # </span>┃<span style=\"font-weight: bold\"> Connected to      </span>┃\n",
       "┡━━━━━━━━━━━━━━━━━━━━━╇━━━━━━━━━━━━━━━━━━━╇━━━━━━━━━━━━╇━━━━━━━━━━━━━━━━━━━┩\n",
       "│ input_layer         │ (<span style=\"color: #00d7ff; text-decoration-color: #00d7ff\">None</span>, <span style=\"color: #00af00; text-decoration-color: #00af00\">556</span>)       │          <span style=\"color: #00af00; text-decoration-color: #00af00\">0</span> │ -                 │\n",
       "│ (<span style=\"color: #0087ff; text-decoration-color: #0087ff\">InputLayer</span>)        │                   │            │                   │\n",
       "├─────────────────────┼───────────────────┼────────────┼───────────────────┤\n",
       "│ normalization       │ (<span style=\"color: #00d7ff; text-decoration-color: #00d7ff\">None</span>, <span style=\"color: #00af00; text-decoration-color: #00af00\">556</span>)       │          <span style=\"color: #00af00; text-decoration-color: #00af00\">0</span> │ input_layer[<span style=\"color: #00af00; text-decoration-color: #00af00\">0</span>][<span style=\"color: #00af00; text-decoration-color: #00af00\">0</span>] │\n",
       "│ (<span style=\"color: #0087ff; text-decoration-color: #0087ff\">Normalization</span>)     │                   │            │                   │\n",
       "├─────────────────────┼───────────────────┼────────────┼───────────────────┤\n",
       "│ get_item (<span style=\"color: #0087ff; text-decoration-color: #0087ff\">GetItem</span>)  │ (<span style=\"color: #00d7ff; text-decoration-color: #00d7ff\">None</span>, <span style=\"color: #00af00; text-decoration-color: #00af00\">360</span>)       │          <span style=\"color: #00af00; text-decoration-color: #00af00\">0</span> │ normalization[<span style=\"color: #00af00; text-decoration-color: #00af00\">0</span>]… │\n",
       "├─────────────────────┼───────────────────┼────────────┼───────────────────┤\n",
       "│ get_item_1          │ (<span style=\"color: #00d7ff; text-decoration-color: #00d7ff\">None</span>, <span style=\"color: #00af00; text-decoration-color: #00af00\">180</span>)       │          <span style=\"color: #00af00; text-decoration-color: #00af00\">0</span> │ normalization[<span style=\"color: #00af00; text-decoration-color: #00af00\">0</span>]… │\n",
       "│ (<span style=\"color: #0087ff; text-decoration-color: #0087ff\">GetItem</span>)           │                   │            │                   │\n",
       "├─────────────────────┼───────────────────┼────────────┼───────────────────┤\n",
       "│ get_item_2          │ (<span style=\"color: #00d7ff; text-decoration-color: #00d7ff\">None</span>, <span style=\"color: #00af00; text-decoration-color: #00af00\">16</span>)        │          <span style=\"color: #00af00; text-decoration-color: #00af00\">0</span> │ normalization[<span style=\"color: #00af00; text-decoration-color: #00af00\">0</span>]… │\n",
       "│ (<span style=\"color: #0087ff; text-decoration-color: #0087ff\">GetItem</span>)           │                   │            │                   │\n",
       "├─────────────────────┼───────────────────┼────────────┼───────────────────┤\n",
       "│ reshape (<span style=\"color: #0087ff; text-decoration-color: #0087ff\">Reshape</span>)   │ (<span style=\"color: #00d7ff; text-decoration-color: #00d7ff\">None</span>, <span style=\"color: #00af00; text-decoration-color: #00af00\">6</span>, <span style=\"color: #00af00; text-decoration-color: #00af00\">60</span>)     │          <span style=\"color: #00af00; text-decoration-color: #00af00\">0</span> │ get_item[<span style=\"color: #00af00; text-decoration-color: #00af00\">0</span>][<span style=\"color: #00af00; text-decoration-color: #00af00\">0</span>]    │\n",
       "├─────────────────────┼───────────────────┼────────────┼───────────────────┤\n",
       "│ reshape_1 (<span style=\"color: #0087ff; text-decoration-color: #0087ff\">Reshape</span>) │ (<span style=\"color: #00d7ff; text-decoration-color: #00d7ff\">None</span>, <span style=\"color: #00af00; text-decoration-color: #00af00\">3</span>, <span style=\"color: #00af00; text-decoration-color: #00af00\">60</span>)     │          <span style=\"color: #00af00; text-decoration-color: #00af00\">0</span> │ get_item_1[<span style=\"color: #00af00; text-decoration-color: #00af00\">0</span>][<span style=\"color: #00af00; text-decoration-color: #00af00\">0</span>]  │\n",
       "├─────────────────────┼───────────────────┼────────────┼───────────────────┤\n",
       "│ reshape_2 (<span style=\"color: #0087ff; text-decoration-color: #0087ff\">Reshape</span>) │ (<span style=\"color: #00d7ff; text-decoration-color: #00d7ff\">None</span>, <span style=\"color: #00af00; text-decoration-color: #00af00\">1</span>, <span style=\"color: #00af00; text-decoration-color: #00af00\">16</span>)     │          <span style=\"color: #00af00; text-decoration-color: #00af00\">0</span> │ get_item_2[<span style=\"color: #00af00; text-decoration-color: #00af00\">0</span>][<span style=\"color: #00af00; text-decoration-color: #00af00\">0</span>]  │\n",
       "├─────────────────────┼───────────────────┼────────────┼───────────────────┤\n",
       "│ transpose           │ (<span style=\"color: #00d7ff; text-decoration-color: #00d7ff\">None</span>, <span style=\"color: #00af00; text-decoration-color: #00af00\">60</span>, <span style=\"color: #00af00; text-decoration-color: #00af00\">6</span>)     │          <span style=\"color: #00af00; text-decoration-color: #00af00\">0</span> │ reshape[<span style=\"color: #00af00; text-decoration-color: #00af00\">0</span>][<span style=\"color: #00af00; text-decoration-color: #00af00\">0</span>]     │\n",
       "│ (<span style=\"color: #0087ff; text-decoration-color: #0087ff\">Transpose</span>)         │                   │            │                   │\n",
       "├─────────────────────┼───────────────────┼────────────┼───────────────────┤\n",
       "│ transpose_1         │ (<span style=\"color: #00d7ff; text-decoration-color: #00d7ff\">None</span>, <span style=\"color: #00af00; text-decoration-color: #00af00\">60</span>, <span style=\"color: #00af00; text-decoration-color: #00af00\">3</span>)     │          <span style=\"color: #00af00; text-decoration-color: #00af00\">0</span> │ reshape_1[<span style=\"color: #00af00; text-decoration-color: #00af00\">0</span>][<span style=\"color: #00af00; text-decoration-color: #00af00\">0</span>]   │\n",
       "│ (<span style=\"color: #0087ff; text-decoration-color: #0087ff\">Transpose</span>)         │                   │            │                   │\n",
       "├─────────────────────┼───────────────────┼────────────┼───────────────────┤\n",
       "│ repeat (<span style=\"color: #0087ff; text-decoration-color: #0087ff\">Repeat</span>)     │ (<span style=\"color: #00d7ff; text-decoration-color: #00d7ff\">None</span>, <span style=\"color: #00af00; text-decoration-color: #00af00\">60</span>, <span style=\"color: #00af00; text-decoration-color: #00af00\">16</span>)    │          <span style=\"color: #00af00; text-decoration-color: #00af00\">0</span> │ reshape_2[<span style=\"color: #00af00; text-decoration-color: #00af00\">0</span>][<span style=\"color: #00af00; text-decoration-color: #00af00\">0</span>]   │\n",
       "├─────────────────────┼───────────────────┼────────────┼───────────────────┤\n",
       "│ concatenate         │ (<span style=\"color: #00d7ff; text-decoration-color: #00d7ff\">None</span>, <span style=\"color: #00af00; text-decoration-color: #00af00\">60</span>, <span style=\"color: #00af00; text-decoration-color: #00af00\">25</span>)    │          <span style=\"color: #00af00; text-decoration-color: #00af00\">0</span> │ transpose[<span style=\"color: #00af00; text-decoration-color: #00af00\">0</span>][<span style=\"color: #00af00; text-decoration-color: #00af00\">0</span>],  │\n",
       "│ (<span style=\"color: #0087ff; text-decoration-color: #0087ff\">Concatenate</span>)       │                   │            │ transpose_1[<span style=\"color: #00af00; text-decoration-color: #00af00\">0</span>][<span style=\"color: #00af00; text-decoration-color: #00af00\">0</span>… │\n",
       "│                     │                   │            │ repeat[<span style=\"color: #00af00; text-decoration-color: #00af00\">0</span>][<span style=\"color: #00af00; text-decoration-color: #00af00\">0</span>]      │\n",
       "├─────────────────────┼───────────────────┼────────────┼───────────────────┤\n",
       "│ zero_padding1d      │ (<span style=\"color: #00d7ff; text-decoration-color: #00d7ff\">None</span>, <span style=\"color: #00af00; text-decoration-color: #00af00\">64</span>, <span style=\"color: #00af00; text-decoration-color: #00af00\">25</span>)    │          <span style=\"color: #00af00; text-decoration-color: #00af00\">0</span> │ concatenate[<span style=\"color: #00af00; text-decoration-color: #00af00\">0</span>][<span style=\"color: #00af00; text-decoration-color: #00af00\">0</span>] │\n",
       "│ (<span style=\"color: #0087ff; text-decoration-color: #0087ff\">ZeroPadding1D</span>)     │                   │            │                   │\n",
       "├─────────────────────┼───────────────────┼────────────┼───────────────────┤\n",
       "│ conv1d (<span style=\"color: #0087ff; text-decoration-color: #0087ff\">Conv1D</span>)     │ (<span style=\"color: #00d7ff; text-decoration-color: #00d7ff\">None</span>, <span style=\"color: #00af00; text-decoration-color: #00af00\">64</span>, <span style=\"color: #00af00; text-decoration-color: #00af00\">48</span>)    │      <span style=\"color: #00af00; text-decoration-color: #00af00\">1,248</span> │ zero_padding1d[<span style=\"color: #00af00; text-decoration-color: #00af00\">0</span>… │\n",
       "├─────────────────────┼───────────────────┼────────────┼───────────────────┤\n",
       "│ functional_1        │ (<span style=\"color: #00d7ff; text-decoration-color: #00d7ff\">None</span>, <span style=\"color: #00af00; text-decoration-color: #00af00\">64</span>, <span style=\"color: #00af00; text-decoration-color: #00af00\">256</span>)   │  <span style=\"color: #00af00; text-decoration-color: #00af00\">9,722,080</span> │ conv1d[<span style=\"color: #00af00; text-decoration-color: #00af00\">0</span>][<span style=\"color: #00af00; text-decoration-color: #00af00\">0</span>]      │\n",
       "│ (<span style=\"color: #0087ff; text-decoration-color: #0087ff\">Functional</span>)        │                   │            │                   │\n",
       "├─────────────────────┼───────────────────┼────────────┼───────────────────┤\n",
       "│ get_item_3          │ (<span style=\"color: #00d7ff; text-decoration-color: #00d7ff\">None</span>, <span style=\"color: #00af00; text-decoration-color: #00af00\">60</span>, <span style=\"color: #00af00; text-decoration-color: #00af00\">256</span>)   │          <span style=\"color: #00af00; text-decoration-color: #00af00\">0</span> │ functional_1[<span style=\"color: #00af00; text-decoration-color: #00af00\">0</span>][<span style=\"color: #00af00; text-decoration-color: #00af00\">…</span> │\n",
       "│ (<span style=\"color: #0087ff; text-decoration-color: #0087ff\">GetItem</span>)           │                   │            │                   │\n",
       "├─────────────────────┼───────────────────┼────────────┼───────────────────┤\n",
       "│ conv1d_49 (<span style=\"color: #0087ff; text-decoration-color: #0087ff\">Conv1D</span>)  │ (<span style=\"color: #00d7ff; text-decoration-color: #00d7ff\">None</span>, <span style=\"color: #00af00; text-decoration-color: #00af00\">60</span>, <span style=\"color: #00af00; text-decoration-color: #00af00\">14</span>)    │      <span style=\"color: #00af00; text-decoration-color: #00af00\">3,598</span> │ get_item_3[<span style=\"color: #00af00; text-decoration-color: #00af00\">0</span>][<span style=\"color: #00af00; text-decoration-color: #00af00\">0</span>]  │\n",
       "├─────────────────────┼───────────────────┼────────────┼───────────────────┤\n",
       "│ get_item_4          │ (<span style=\"color: #00d7ff; text-decoration-color: #00d7ff\">None</span>, <span style=\"color: #00af00; text-decoration-color: #00af00\">60</span>, <span style=\"color: #00af00; text-decoration-color: #00af00\">6</span>)     │          <span style=\"color: #00af00; text-decoration-color: #00af00\">0</span> │ conv1d_49[<span style=\"color: #00af00; text-decoration-color: #00af00\">0</span>][<span style=\"color: #00af00; text-decoration-color: #00af00\">0</span>]   │\n",
       "│ (<span style=\"color: #0087ff; text-decoration-color: #0087ff\">GetItem</span>)           │                   │            │                   │\n",
       "├─────────────────────┼───────────────────┼────────────┼───────────────────┤\n",
       "│ transpose_2         │ (<span style=\"color: #00d7ff; text-decoration-color: #00d7ff\">None</span>, <span style=\"color: #00af00; text-decoration-color: #00af00\">6</span>, <span style=\"color: #00af00; text-decoration-color: #00af00\">60</span>)     │          <span style=\"color: #00af00; text-decoration-color: #00af00\">0</span> │ get_item_4[<span style=\"color: #00af00; text-decoration-color: #00af00\">0</span>][<span style=\"color: #00af00; text-decoration-color: #00af00\">0</span>]  │\n",
       "│ (<span style=\"color: #0087ff; text-decoration-color: #0087ff\">Transpose</span>)         │                   │            │                   │\n",
       "├─────────────────────┼───────────────────┼────────────┼───────────────────┤\n",
       "│ get_item_5          │ (<span style=\"color: #00d7ff; text-decoration-color: #00d7ff\">None</span>, <span style=\"color: #00af00; text-decoration-color: #00af00\">60</span>, <span style=\"color: #00af00; text-decoration-color: #00af00\">8</span>)     │          <span style=\"color: #00af00; text-decoration-color: #00af00\">0</span> │ conv1d_49[<span style=\"color: #00af00; text-decoration-color: #00af00\">0</span>][<span style=\"color: #00af00; text-decoration-color: #00af00\">0</span>]   │\n",
       "│ (<span style=\"color: #0087ff; text-decoration-color: #0087ff\">GetItem</span>)           │                   │            │                   │\n",
       "├─────────────────────┼───────────────────┼────────────┼───────────────────┤\n",
       "│ flatten (<span style=\"color: #0087ff; text-decoration-color: #0087ff\">Flatten</span>)   │ (<span style=\"color: #00d7ff; text-decoration-color: #00d7ff\">None</span>, <span style=\"color: #00af00; text-decoration-color: #00af00\">360</span>)       │          <span style=\"color: #00af00; text-decoration-color: #00af00\">0</span> │ transpose_2[<span style=\"color: #00af00; text-decoration-color: #00af00\">0</span>][<span style=\"color: #00af00; text-decoration-color: #00af00\">0</span>] │\n",
       "├─────────────────────┼───────────────────┼────────────┼───────────────────┤\n",
       "│ mean (<span style=\"color: #0087ff; text-decoration-color: #0087ff\">Mean</span>)         │ (<span style=\"color: #00d7ff; text-decoration-color: #00d7ff\">None</span>, <span style=\"color: #00af00; text-decoration-color: #00af00\">8</span>)         │          <span style=\"color: #00af00; text-decoration-color: #00af00\">0</span> │ get_item_5[<span style=\"color: #00af00; text-decoration-color: #00af00\">0</span>][<span style=\"color: #00af00; text-decoration-color: #00af00\">0</span>]  │\n",
       "├─────────────────────┼───────────────────┼────────────┼───────────────────┤\n",
       "│ concatenate_5       │ (<span style=\"color: #00d7ff; text-decoration-color: #00d7ff\">None</span>, <span style=\"color: #00af00; text-decoration-color: #00af00\">368</span>)       │          <span style=\"color: #00af00; text-decoration-color: #00af00\">0</span> │ flatten[<span style=\"color: #00af00; text-decoration-color: #00af00\">0</span>][<span style=\"color: #00af00; text-decoration-color: #00af00\">0</span>],    │\n",
       "│ (<span style=\"color: #0087ff; text-decoration-color: #0087ff\">Concatenate</span>)       │                   │            │ mean[<span style=\"color: #00af00; text-decoration-color: #00af00\">0</span>][<span style=\"color: #00af00; text-decoration-color: #00af00\">0</span>]        │\n",
       "└─────────────────────┴───────────────────┴────────────┴───────────────────┘\n",
       "</pre>\n"
      ],
      "text/plain": [
       "┏━━━━━━━━━━━━━━━━━━━━━┳━━━━━━━━━━━━━━━━━━━┳━━━━━━━━━━━━┳━━━━━━━━━━━━━━━━━━━┓\n",
       "┃\u001b[1m \u001b[0m\u001b[1mLayer (type)       \u001b[0m\u001b[1m \u001b[0m┃\u001b[1m \u001b[0m\u001b[1mOutput Shape     \u001b[0m\u001b[1m \u001b[0m┃\u001b[1m \u001b[0m\u001b[1m   Param #\u001b[0m\u001b[1m \u001b[0m┃\u001b[1m \u001b[0m\u001b[1mConnected to     \u001b[0m\u001b[1m \u001b[0m┃\n",
       "┡━━━━━━━━━━━━━━━━━━━━━╇━━━━━━━━━━━━━━━━━━━╇━━━━━━━━━━━━╇━━━━━━━━━━━━━━━━━━━┩\n",
       "│ input_layer         │ (\u001b[38;5;45mNone\u001b[0m, \u001b[38;5;34m556\u001b[0m)       │          \u001b[38;5;34m0\u001b[0m │ -                 │\n",
       "│ (\u001b[38;5;33mInputLayer\u001b[0m)        │                   │            │                   │\n",
       "├─────────────────────┼───────────────────┼────────────┼───────────────────┤\n",
       "│ normalization       │ (\u001b[38;5;45mNone\u001b[0m, \u001b[38;5;34m556\u001b[0m)       │          \u001b[38;5;34m0\u001b[0m │ input_layer[\u001b[38;5;34m0\u001b[0m][\u001b[38;5;34m0\u001b[0m] │\n",
       "│ (\u001b[38;5;33mNormalization\u001b[0m)     │                   │            │                   │\n",
       "├─────────────────────┼───────────────────┼────────────┼───────────────────┤\n",
       "│ get_item (\u001b[38;5;33mGetItem\u001b[0m)  │ (\u001b[38;5;45mNone\u001b[0m, \u001b[38;5;34m360\u001b[0m)       │          \u001b[38;5;34m0\u001b[0m │ normalization[\u001b[38;5;34m0\u001b[0m]… │\n",
       "├─────────────────────┼───────────────────┼────────────┼───────────────────┤\n",
       "│ get_item_1          │ (\u001b[38;5;45mNone\u001b[0m, \u001b[38;5;34m180\u001b[0m)       │          \u001b[38;5;34m0\u001b[0m │ normalization[\u001b[38;5;34m0\u001b[0m]… │\n",
       "│ (\u001b[38;5;33mGetItem\u001b[0m)           │                   │            │                   │\n",
       "├─────────────────────┼───────────────────┼────────────┼───────────────────┤\n",
       "│ get_item_2          │ (\u001b[38;5;45mNone\u001b[0m, \u001b[38;5;34m16\u001b[0m)        │          \u001b[38;5;34m0\u001b[0m │ normalization[\u001b[38;5;34m0\u001b[0m]… │\n",
       "│ (\u001b[38;5;33mGetItem\u001b[0m)           │                   │            │                   │\n",
       "├─────────────────────┼───────────────────┼────────────┼───────────────────┤\n",
       "│ reshape (\u001b[38;5;33mReshape\u001b[0m)   │ (\u001b[38;5;45mNone\u001b[0m, \u001b[38;5;34m6\u001b[0m, \u001b[38;5;34m60\u001b[0m)     │          \u001b[38;5;34m0\u001b[0m │ get_item[\u001b[38;5;34m0\u001b[0m][\u001b[38;5;34m0\u001b[0m]    │\n",
       "├─────────────────────┼───────────────────┼────────────┼───────────────────┤\n",
       "│ reshape_1 (\u001b[38;5;33mReshape\u001b[0m) │ (\u001b[38;5;45mNone\u001b[0m, \u001b[38;5;34m3\u001b[0m, \u001b[38;5;34m60\u001b[0m)     │          \u001b[38;5;34m0\u001b[0m │ get_item_1[\u001b[38;5;34m0\u001b[0m][\u001b[38;5;34m0\u001b[0m]  │\n",
       "├─────────────────────┼───────────────────┼────────────┼───────────────────┤\n",
       "│ reshape_2 (\u001b[38;5;33mReshape\u001b[0m) │ (\u001b[38;5;45mNone\u001b[0m, \u001b[38;5;34m1\u001b[0m, \u001b[38;5;34m16\u001b[0m)     │          \u001b[38;5;34m0\u001b[0m │ get_item_2[\u001b[38;5;34m0\u001b[0m][\u001b[38;5;34m0\u001b[0m]  │\n",
       "├─────────────────────┼───────────────────┼────────────┼───────────────────┤\n",
       "│ transpose           │ (\u001b[38;5;45mNone\u001b[0m, \u001b[38;5;34m60\u001b[0m, \u001b[38;5;34m6\u001b[0m)     │          \u001b[38;5;34m0\u001b[0m │ reshape[\u001b[38;5;34m0\u001b[0m][\u001b[38;5;34m0\u001b[0m]     │\n",
       "│ (\u001b[38;5;33mTranspose\u001b[0m)         │                   │            │                   │\n",
       "├─────────────────────┼───────────────────┼────────────┼───────────────────┤\n",
       "│ transpose_1         │ (\u001b[38;5;45mNone\u001b[0m, \u001b[38;5;34m60\u001b[0m, \u001b[38;5;34m3\u001b[0m)     │          \u001b[38;5;34m0\u001b[0m │ reshape_1[\u001b[38;5;34m0\u001b[0m][\u001b[38;5;34m0\u001b[0m]   │\n",
       "│ (\u001b[38;5;33mTranspose\u001b[0m)         │                   │            │                   │\n",
       "├─────────────────────┼───────────────────┼────────────┼───────────────────┤\n",
       "│ repeat (\u001b[38;5;33mRepeat\u001b[0m)     │ (\u001b[38;5;45mNone\u001b[0m, \u001b[38;5;34m60\u001b[0m, \u001b[38;5;34m16\u001b[0m)    │          \u001b[38;5;34m0\u001b[0m │ reshape_2[\u001b[38;5;34m0\u001b[0m][\u001b[38;5;34m0\u001b[0m]   │\n",
       "├─────────────────────┼───────────────────┼────────────┼───────────────────┤\n",
       "│ concatenate         │ (\u001b[38;5;45mNone\u001b[0m, \u001b[38;5;34m60\u001b[0m, \u001b[38;5;34m25\u001b[0m)    │          \u001b[38;5;34m0\u001b[0m │ transpose[\u001b[38;5;34m0\u001b[0m][\u001b[38;5;34m0\u001b[0m],  │\n",
       "│ (\u001b[38;5;33mConcatenate\u001b[0m)       │                   │            │ transpose_1[\u001b[38;5;34m0\u001b[0m][\u001b[38;5;34m0\u001b[0m… │\n",
       "│                     │                   │            │ repeat[\u001b[38;5;34m0\u001b[0m][\u001b[38;5;34m0\u001b[0m]      │\n",
       "├─────────────────────┼───────────────────┼────────────┼───────────────────┤\n",
       "│ zero_padding1d      │ (\u001b[38;5;45mNone\u001b[0m, \u001b[38;5;34m64\u001b[0m, \u001b[38;5;34m25\u001b[0m)    │          \u001b[38;5;34m0\u001b[0m │ concatenate[\u001b[38;5;34m0\u001b[0m][\u001b[38;5;34m0\u001b[0m] │\n",
       "│ (\u001b[38;5;33mZeroPadding1D\u001b[0m)     │                   │            │                   │\n",
       "├─────────────────────┼───────────────────┼────────────┼───────────────────┤\n",
       "│ conv1d (\u001b[38;5;33mConv1D\u001b[0m)     │ (\u001b[38;5;45mNone\u001b[0m, \u001b[38;5;34m64\u001b[0m, \u001b[38;5;34m48\u001b[0m)    │      \u001b[38;5;34m1,248\u001b[0m │ zero_padding1d[\u001b[38;5;34m0\u001b[0m… │\n",
       "├─────────────────────┼───────────────────┼────────────┼───────────────────┤\n",
       "│ functional_1        │ (\u001b[38;5;45mNone\u001b[0m, \u001b[38;5;34m64\u001b[0m, \u001b[38;5;34m256\u001b[0m)   │  \u001b[38;5;34m9,722,080\u001b[0m │ conv1d[\u001b[38;5;34m0\u001b[0m][\u001b[38;5;34m0\u001b[0m]      │\n",
       "│ (\u001b[38;5;33mFunctional\u001b[0m)        │                   │            │                   │\n",
       "├─────────────────────┼───────────────────┼────────────┼───────────────────┤\n",
       "│ get_item_3          │ (\u001b[38;5;45mNone\u001b[0m, \u001b[38;5;34m60\u001b[0m, \u001b[38;5;34m256\u001b[0m)   │          \u001b[38;5;34m0\u001b[0m │ functional_1[\u001b[38;5;34m0\u001b[0m][\u001b[38;5;34m…\u001b[0m │\n",
       "│ (\u001b[38;5;33mGetItem\u001b[0m)           │                   │            │                   │\n",
       "├─────────────────────┼───────────────────┼────────────┼───────────────────┤\n",
       "│ conv1d_49 (\u001b[38;5;33mConv1D\u001b[0m)  │ (\u001b[38;5;45mNone\u001b[0m, \u001b[38;5;34m60\u001b[0m, \u001b[38;5;34m14\u001b[0m)    │      \u001b[38;5;34m3,598\u001b[0m │ get_item_3[\u001b[38;5;34m0\u001b[0m][\u001b[38;5;34m0\u001b[0m]  │\n",
       "├─────────────────────┼───────────────────┼────────────┼───────────────────┤\n",
       "│ get_item_4          │ (\u001b[38;5;45mNone\u001b[0m, \u001b[38;5;34m60\u001b[0m, \u001b[38;5;34m6\u001b[0m)     │          \u001b[38;5;34m0\u001b[0m │ conv1d_49[\u001b[38;5;34m0\u001b[0m][\u001b[38;5;34m0\u001b[0m]   │\n",
       "│ (\u001b[38;5;33mGetItem\u001b[0m)           │                   │            │                   │\n",
       "├─────────────────────┼───────────────────┼────────────┼───────────────────┤\n",
       "│ transpose_2         │ (\u001b[38;5;45mNone\u001b[0m, \u001b[38;5;34m6\u001b[0m, \u001b[38;5;34m60\u001b[0m)     │          \u001b[38;5;34m0\u001b[0m │ get_item_4[\u001b[38;5;34m0\u001b[0m][\u001b[38;5;34m0\u001b[0m]  │\n",
       "│ (\u001b[38;5;33mTranspose\u001b[0m)         │                   │            │                   │\n",
       "├─────────────────────┼───────────────────┼────────────┼───────────────────┤\n",
       "│ get_item_5          │ (\u001b[38;5;45mNone\u001b[0m, \u001b[38;5;34m60\u001b[0m, \u001b[38;5;34m8\u001b[0m)     │          \u001b[38;5;34m0\u001b[0m │ conv1d_49[\u001b[38;5;34m0\u001b[0m][\u001b[38;5;34m0\u001b[0m]   │\n",
       "│ (\u001b[38;5;33mGetItem\u001b[0m)           │                   │            │                   │\n",
       "├─────────────────────┼───────────────────┼────────────┼───────────────────┤\n",
       "│ flatten (\u001b[38;5;33mFlatten\u001b[0m)   │ (\u001b[38;5;45mNone\u001b[0m, \u001b[38;5;34m360\u001b[0m)       │          \u001b[38;5;34m0\u001b[0m │ transpose_2[\u001b[38;5;34m0\u001b[0m][\u001b[38;5;34m0\u001b[0m] │\n",
       "├─────────────────────┼───────────────────┼────────────┼───────────────────┤\n",
       "│ mean (\u001b[38;5;33mMean\u001b[0m)         │ (\u001b[38;5;45mNone\u001b[0m, \u001b[38;5;34m8\u001b[0m)         │          \u001b[38;5;34m0\u001b[0m │ get_item_5[\u001b[38;5;34m0\u001b[0m][\u001b[38;5;34m0\u001b[0m]  │\n",
       "├─────────────────────┼───────────────────┼────────────┼───────────────────┤\n",
       "│ concatenate_5       │ (\u001b[38;5;45mNone\u001b[0m, \u001b[38;5;34m368\u001b[0m)       │          \u001b[38;5;34m0\u001b[0m │ flatten[\u001b[38;5;34m0\u001b[0m][\u001b[38;5;34m0\u001b[0m],    │\n",
       "│ (\u001b[38;5;33mConcatenate\u001b[0m)       │                   │            │ mean[\u001b[38;5;34m0\u001b[0m][\u001b[38;5;34m0\u001b[0m]        │\n",
       "└─────────────────────┴───────────────────┴────────────┴───────────────────┘\n"
      ]
     },
     "metadata": {},
     "output_type": "display_data"
    },
    {
     "data": {
      "text/html": [
       "<pre style=\"white-space:pre;overflow-x:auto;line-height:normal;font-family:Menlo,'DejaVu Sans Mono',consolas,'Courier New',monospace\"><span style=\"font-weight: bold\"> Total params: </span><span style=\"color: #00af00; text-decoration-color: #00af00\">9,726,926</span> (37.11 MB)\n",
       "</pre>\n"
      ],
      "text/plain": [
       "\u001b[1m Total params: \u001b[0m\u001b[38;5;34m9,726,926\u001b[0m (37.11 MB)\n"
      ]
     },
     "metadata": {},
     "output_type": "display_data"
    },
    {
     "data": {
      "text/html": [
       "<pre style=\"white-space:pre;overflow-x:auto;line-height:normal;font-family:Menlo,'DejaVu Sans Mono',consolas,'Courier New',monospace\"><span style=\"font-weight: bold\"> Trainable params: </span><span style=\"color: #00af00; text-decoration-color: #00af00\">9,726,926</span> (37.11 MB)\n",
       "</pre>\n"
      ],
      "text/plain": [
       "\u001b[1m Trainable params: \u001b[0m\u001b[38;5;34m9,726,926\u001b[0m (37.11 MB)\n"
      ]
     },
     "metadata": {},
     "output_type": "display_data"
    },
    {
     "data": {
      "text/html": [
       "<pre style=\"white-space:pre;overflow-x:auto;line-height:normal;font-family:Menlo,'DejaVu Sans Mono',consolas,'Courier New',monospace\"><span style=\"font-weight: bold\"> Non-trainable params: </span><span style=\"color: #00af00; text-decoration-color: #00af00\">0</span> (0.00 B)\n",
       "</pre>\n"
      ],
      "text/plain": [
       "\u001b[1m Non-trainable params: \u001b[0m\u001b[38;5;34m0\u001b[0m (0.00 B)\n"
      ]
     },
     "metadata": {},
     "output_type": "display_data"
    },
    {
     "name": "stdout",
     "output_type": "stream",
     "text": [
      "CPU times: user 1.34 s, sys: 21.4 ms, total: 1.36 s\n",
      "Wall time: 1.31 s\n"
     ]
    }
   ],
   "source": [
    "%%time\n",
    "\n",
    "    # Clear the current Keras session\n",
    "    keras.utils.clear_session() \n",
    "\n",
    "    def x_to_seq(x):\n",
    "        x_seq0 = keras.ops.transpose(keras.ops.reshape(x[:, 0:60 * 6], (-1, 6, 60)), (0, 2, 1))\n",
    "        x_seq1 = keras.ops.transpose(keras.ops.reshape(x[:, 60 * 6 + 16:60 * 9 + 16], (-1, 3, 60)), (0, 2, 1))\n",
    "        x_flat = keras.ops.reshape(x[:, 60 * 6:60 * 6 + 16], (-1, 1, 16))\n",
    "        x_flat = keras.ops.repeat(x_flat, 60, axis=1)\n",
    "        return keras.ops.concatenate([x_seq0, x_seq1, x_flat], axis=-1) \n",
    "  \n",
    "   \n",
    "    # Build 1D U-Net model\n",
    "    def create_unet(input_shape):\n",
    "        inputs = keras.layers.Input(shape=input_shape)\n",
    "\n",
    "        # Encoder\n",
    "        encoder_1 = repeat_block(inputs, 128, 2)  # 64 x 128 x 2\n",
    "        #encoder_1 = transformer_block(encoder_1, head_size=16, num_heads=8, ff_dim=256)\n",
    "        encoder_1_down = keras.layers.MaxPooling1D(pool_size=2, strides=2)(encoder_1)  # Downsample # 32 x 128\n",
    "\n",
    "        encoder_2 = repeat_block(encoder_1_down, 256, 2)  # 32 x 256 x 2\n",
    "        #encoder_2 = transformer_block(encoder_2, head_size=32, num_heads=8, ff_dim=512)\n",
    "        encoder_2_down = keras.layers.MaxPooling1D(pool_size=2, strides=2)(encoder_2)  # Downsample # 16 x 256\n",
    "\n",
    "        encoder_3 = repeat_block(encoder_2_down, 256, 2)  # 16 x 256 x 2\n",
    "        #encoder_3 = transformer_block(encoder_3, head_size=32, num_heads=8, ff_dim=512)\n",
    "        encoder_3_down = keras.layers.MaxPooling1D(pool_size=2, strides=2)(encoder_3)  # Downsample # 8 x 256\n",
    "\n",
    "        encoder_4 = repeat_block(encoder_3_down, 256, 2)  # 8 x 256 x 2\n",
    "\n",
    "        # Bottleneck (Transformer)\n",
    "        #bottle_neck_pe = keras_nlp.layers.SinePositionEncoding()(encoder_4)\n",
    "        #bottle_neck = encoder_4 + bottle_neck_pe\n",
    "        bottleneck = transformer_block(encoder_4, head_size=32, num_heads=8, ff_dim=512)\n",
    "        bottleneck = repeat_block(bottleneck, 256, 1)  # 8 x 256 x 2\n",
    "        \n",
    "        #encoder_4 = transformer_CA_block(bottleneck, encoder_4, head_size=4, num_heads=64, ff_dim=512)\n",
    "        decoder_1 = keras.layers.Concatenate()([bottleneck, encoder_4])\n",
    "        decoder_1_block = repeat_block(decoder_1, 256, 3)  # 8 x 256 x 3\n",
    "        #decoder_1_block = transformer_block(decoder_1_block, head_size=32, num_heads=8, ff_dim=512)\n",
    "        decoder_1_upsample = keras.layers.Conv1DTranspose(256, kernel_size=2, strides=2, padding='same')(decoder_1_block)  # Upsample # 16 x 256\n",
    "        \n",
    "        #encoder_3 = transformer_CA_block(decoder_1_upsample, encoder_3, head_size=4, num_heads=64, ff_dim=512)\n",
    "        decoder_2 = keras.layers.Concatenate()([decoder_1_upsample, encoder_3])\n",
    "        decoder_2_block = repeat_block(decoder_2, 256, 3)  # 16 x 256 x 3\n",
    "        #decoder_2_block = transformer_block(decoder_2_block, head_size=32, num_heads=8, ff_dim=512)\n",
    "        decoder_2_upsample = keras.layers.Conv1DTranspose(256, kernel_size=2, strides=2, padding='same')(decoder_2_block)  # Upsample # 32 x 256\n",
    "        \n",
    "        #encoder_2 = transformer_CA_block(decoder_2_upsample, encoder_2, head_size=4, num_heads=64, ff_dim=512)\n",
    "        decoder_3 = keras.layers.Concatenate()([decoder_2_upsample, encoder_2])\n",
    "        decoder_3_block = repeat_block(decoder_3, 256, 3)  # 32 x 256 x 3\n",
    "        #decoder_3_block = transformer_block(decoder_3_block, head_size=32, num_heads=8, ff_dim=512)\n",
    "        decoder_3_upsample = keras.layers.Conv1DTranspose(256, kernel_size=2, strides=2, padding='same')(decoder_3_block)  # Upsample # 64 x 256\n",
    "\n",
    "        decoder_4 = keras.layers.Concatenate()([decoder_3_upsample, encoder_1])\n",
    "        decoder_4_block = repeat_block(decoder_4, 256, 3)  # 64 x 256 x 3\n",
    "\n",
    "        model = keras.models.Model(inputs, decoder_4_block)\n",
    "        return model\n",
    "    \n",
    "    X_input = x = keras.layers.Input(ds_train.element_spec[0].shape[1:]) \n",
    "    x = keras.layers.Normalization(mean=norm_x.mean, variance=norm_x.variance)(x)\n",
    "    x = x_to_seq(x) \n",
    "  \n",
    "    # Zero-padding at the beginning and end of the sequence to extend the length from 60 to 64\n",
    "    x = keras.layers.ZeroPadding1D(padding=(2, 2))(x)\n",
    "    # \n",
    "    e = keras.layers.Conv1D(48, 1, padding='same')(x)   \n",
    "    e = create_unet(e.shape[1:])(e)      \n",
    "      \n",
    "    # Use a Lambda layer to remove the first and last 2 time steps \n",
    "    e = e[:, 2:-2, :]\n",
    "\n",
    "    p_all = keras.layers.Conv1D(14, 1, padding='same')(e)\n",
    "    print(p_all.shape)\n",
    "    \n",
    "    p_seq = p_all[:, :, :6]\n",
    "    p_seq = keras.ops.transpose(p_seq, (0, 2, 1))\n",
    "    p_seq = keras.layers.Flatten()(p_seq)\n",
    "    assert p_seq.shape[-1] == 360\n",
    "\n",
    "    p_flat = p_all[:, :, 6:6 + 8]\n",
    "    p_flat = keras.ops.mean(p_flat, axis=1)\n",
    "    assert p_flat.shape[-1] == 8\n",
    "\n",
    "    P = keras.ops.concatenate([p_seq, p_flat], axis=1)\n",
    "\n",
    "    # Build & compile the model\n",
    "    model = keras.Model(X_input, P)\n",
    "    model.compile(\n",
    "        loss=keras.losses.Huber(delta=1.0), \n",
    "        optimizer=keras.optimizers.Adam(lr_scheduler),\n",
    "        metrics=[keras.metrics.MeanSquaredError(), \n",
    "                     keras.metrics.R2Score(class_aggregation=\"variance_weighted_average\"), \n",
    "        ]  # Updated R2Score\n",
    "    )\n",
    "    model.build(tuple(ds_train.element_spec[0].shape))\n",
    "    model.summary()"
   ]
  },
  {
   "cell_type": "code",
   "execution_count": 71,
   "id": "10681d23-e2c1-4b0c-96a9-e1fafc707255",
   "metadata": {},
   "outputs": [
    {
     "data": {
      "text/html": [
       "<pre style=\"white-space:pre;overflow-x:auto;line-height:normal;font-family:Menlo,'DejaVu Sans Mono',consolas,'Courier New',monospace\"><span style=\"font-weight: bold\">Model: \"functional_3\"</span>\n",
       "</pre>\n"
      ],
      "text/plain": [
       "\u001b[1mModel: \"functional_3\"\u001b[0m\n"
      ]
     },
     "metadata": {},
     "output_type": "display_data"
    },
    {
     "data": {
      "text/html": [
       "<pre style=\"white-space:pre;overflow-x:auto;line-height:normal;font-family:Menlo,'DejaVu Sans Mono',consolas,'Courier New',monospace\">┏━━━━━━━━━━━━━━━━━━━━━┳━━━━━━━━━━━━━━━━━━━┳━━━━━━━━━━━━┳━━━━━━━━━━━━━━━━━━━┓\n",
       "┃<span style=\"font-weight: bold\"> Layer (type)        </span>┃<span style=\"font-weight: bold\"> Output Shape      </span>┃<span style=\"font-weight: bold\">    Param # </span>┃<span style=\"font-weight: bold\"> Connected to      </span>┃\n",
       "┡━━━━━━━━━━━━━━━━━━━━━╇━━━━━━━━━━━━━━━━━━━╇━━━━━━━━━━━━╇━━━━━━━━━━━━━━━━━━━┩\n",
       "│ input_layer         │ (<span style=\"color: #00d7ff; text-decoration-color: #00d7ff\">None</span>, <span style=\"color: #00af00; text-decoration-color: #00af00\">556</span>)       │          <span style=\"color: #00af00; text-decoration-color: #00af00\">0</span> │ -                 │\n",
       "│ (<span style=\"color: #0087ff; text-decoration-color: #0087ff\">InputLayer</span>)        │                   │            │                   │\n",
       "├─────────────────────┼───────────────────┼────────────┼───────────────────┤\n",
       "│ normalization       │ (<span style=\"color: #00d7ff; text-decoration-color: #00d7ff\">None</span>, <span style=\"color: #00af00; text-decoration-color: #00af00\">556</span>)       │          <span style=\"color: #00af00; text-decoration-color: #00af00\">0</span> │ input_layer[<span style=\"color: #00af00; text-decoration-color: #00af00\">0</span>][<span style=\"color: #00af00; text-decoration-color: #00af00\">0</span>] │\n",
       "│ (<span style=\"color: #0087ff; text-decoration-color: #0087ff\">Normalization</span>)     │                   │            │                   │\n",
       "├─────────────────────┼───────────────────┼────────────┼───────────────────┤\n",
       "│ get_item (<span style=\"color: #0087ff; text-decoration-color: #0087ff\">GetItem</span>)  │ (<span style=\"color: #00d7ff; text-decoration-color: #00d7ff\">None</span>, <span style=\"color: #00af00; text-decoration-color: #00af00\">360</span>)       │          <span style=\"color: #00af00; text-decoration-color: #00af00\">0</span> │ normalization[<span style=\"color: #00af00; text-decoration-color: #00af00\">0</span>]… │\n",
       "├─────────────────────┼───────────────────┼────────────┼───────────────────┤\n",
       "│ get_item_1          │ (<span style=\"color: #00d7ff; text-decoration-color: #00d7ff\">None</span>, <span style=\"color: #00af00; text-decoration-color: #00af00\">180</span>)       │          <span style=\"color: #00af00; text-decoration-color: #00af00\">0</span> │ normalization[<span style=\"color: #00af00; text-decoration-color: #00af00\">0</span>]… │\n",
       "│ (<span style=\"color: #0087ff; text-decoration-color: #0087ff\">GetItem</span>)           │                   │            │                   │\n",
       "├─────────────────────┼───────────────────┼────────────┼───────────────────┤\n",
       "│ get_item_2          │ (<span style=\"color: #00d7ff; text-decoration-color: #00d7ff\">None</span>, <span style=\"color: #00af00; text-decoration-color: #00af00\">16</span>)        │          <span style=\"color: #00af00; text-decoration-color: #00af00\">0</span> │ normalization[<span style=\"color: #00af00; text-decoration-color: #00af00\">0</span>]… │\n",
       "│ (<span style=\"color: #0087ff; text-decoration-color: #0087ff\">GetItem</span>)           │                   │            │                   │\n",
       "├─────────────────────┼───────────────────┼────────────┼───────────────────┤\n",
       "│ reshape (<span style=\"color: #0087ff; text-decoration-color: #0087ff\">Reshape</span>)   │ (<span style=\"color: #00d7ff; text-decoration-color: #00d7ff\">None</span>, <span style=\"color: #00af00; text-decoration-color: #00af00\">6</span>, <span style=\"color: #00af00; text-decoration-color: #00af00\">60</span>)     │          <span style=\"color: #00af00; text-decoration-color: #00af00\">0</span> │ get_item[<span style=\"color: #00af00; text-decoration-color: #00af00\">0</span>][<span style=\"color: #00af00; text-decoration-color: #00af00\">0</span>]    │\n",
       "├─────────────────────┼───────────────────┼────────────┼───────────────────┤\n",
       "│ reshape_1 (<span style=\"color: #0087ff; text-decoration-color: #0087ff\">Reshape</span>) │ (<span style=\"color: #00d7ff; text-decoration-color: #00d7ff\">None</span>, <span style=\"color: #00af00; text-decoration-color: #00af00\">3</span>, <span style=\"color: #00af00; text-decoration-color: #00af00\">60</span>)     │          <span style=\"color: #00af00; text-decoration-color: #00af00\">0</span> │ get_item_1[<span style=\"color: #00af00; text-decoration-color: #00af00\">0</span>][<span style=\"color: #00af00; text-decoration-color: #00af00\">0</span>]  │\n",
       "├─────────────────────┼───────────────────┼────────────┼───────────────────┤\n",
       "│ reshape_2 (<span style=\"color: #0087ff; text-decoration-color: #0087ff\">Reshape</span>) │ (<span style=\"color: #00d7ff; text-decoration-color: #00d7ff\">None</span>, <span style=\"color: #00af00; text-decoration-color: #00af00\">1</span>, <span style=\"color: #00af00; text-decoration-color: #00af00\">16</span>)     │          <span style=\"color: #00af00; text-decoration-color: #00af00\">0</span> │ get_item_2[<span style=\"color: #00af00; text-decoration-color: #00af00\">0</span>][<span style=\"color: #00af00; text-decoration-color: #00af00\">0</span>]  │\n",
       "├─────────────────────┼───────────────────┼────────────┼───────────────────┤\n",
       "│ transpose           │ (<span style=\"color: #00d7ff; text-decoration-color: #00d7ff\">None</span>, <span style=\"color: #00af00; text-decoration-color: #00af00\">60</span>, <span style=\"color: #00af00; text-decoration-color: #00af00\">6</span>)     │          <span style=\"color: #00af00; text-decoration-color: #00af00\">0</span> │ reshape[<span style=\"color: #00af00; text-decoration-color: #00af00\">0</span>][<span style=\"color: #00af00; text-decoration-color: #00af00\">0</span>]     │\n",
       "│ (<span style=\"color: #0087ff; text-decoration-color: #0087ff\">Transpose</span>)         │                   │            │                   │\n",
       "├─────────────────────┼───────────────────┼────────────┼───────────────────┤\n",
       "│ transpose_1         │ (<span style=\"color: #00d7ff; text-decoration-color: #00d7ff\">None</span>, <span style=\"color: #00af00; text-decoration-color: #00af00\">60</span>, <span style=\"color: #00af00; text-decoration-color: #00af00\">3</span>)     │          <span style=\"color: #00af00; text-decoration-color: #00af00\">0</span> │ reshape_1[<span style=\"color: #00af00; text-decoration-color: #00af00\">0</span>][<span style=\"color: #00af00; text-decoration-color: #00af00\">0</span>]   │\n",
       "│ (<span style=\"color: #0087ff; text-decoration-color: #0087ff\">Transpose</span>)         │                   │            │                   │\n",
       "├─────────────────────┼───────────────────┼────────────┼───────────────────┤\n",
       "│ repeat (<span style=\"color: #0087ff; text-decoration-color: #0087ff\">Repeat</span>)     │ (<span style=\"color: #00d7ff; text-decoration-color: #00d7ff\">None</span>, <span style=\"color: #00af00; text-decoration-color: #00af00\">60</span>, <span style=\"color: #00af00; text-decoration-color: #00af00\">16</span>)    │          <span style=\"color: #00af00; text-decoration-color: #00af00\">0</span> │ reshape_2[<span style=\"color: #00af00; text-decoration-color: #00af00\">0</span>][<span style=\"color: #00af00; text-decoration-color: #00af00\">0</span>]   │\n",
       "├─────────────────────┼───────────────────┼────────────┼───────────────────┤\n",
       "│ concatenate         │ (<span style=\"color: #00d7ff; text-decoration-color: #00d7ff\">None</span>, <span style=\"color: #00af00; text-decoration-color: #00af00\">60</span>, <span style=\"color: #00af00; text-decoration-color: #00af00\">25</span>)    │          <span style=\"color: #00af00; text-decoration-color: #00af00\">0</span> │ transpose[<span style=\"color: #00af00; text-decoration-color: #00af00\">0</span>][<span style=\"color: #00af00; text-decoration-color: #00af00\">0</span>],  │\n",
       "│ (<span style=\"color: #0087ff; text-decoration-color: #0087ff\">Concatenate</span>)       │                   │            │ transpose_1[<span style=\"color: #00af00; text-decoration-color: #00af00\">0</span>][<span style=\"color: #00af00; text-decoration-color: #00af00\">0</span>… │\n",
       "│                     │                   │            │ repeat[<span style=\"color: #00af00; text-decoration-color: #00af00\">0</span>][<span style=\"color: #00af00; text-decoration-color: #00af00\">0</span>]      │\n",
       "├─────────────────────┼───────────────────┼────────────┼───────────────────┤\n",
       "│ zero_padding1d      │ (<span style=\"color: #00d7ff; text-decoration-color: #00d7ff\">None</span>, <span style=\"color: #00af00; text-decoration-color: #00af00\">64</span>, <span style=\"color: #00af00; text-decoration-color: #00af00\">25</span>)    │          <span style=\"color: #00af00; text-decoration-color: #00af00\">0</span> │ concatenate[<span style=\"color: #00af00; text-decoration-color: #00af00\">0</span>][<span style=\"color: #00af00; text-decoration-color: #00af00\">0</span>] │\n",
       "│ (<span style=\"color: #0087ff; text-decoration-color: #0087ff\">ZeroPadding1D</span>)     │                   │            │                   │\n",
       "├─────────────────────┼───────────────────┼────────────┼───────────────────┤\n",
       "│ conv1d (<span style=\"color: #0087ff; text-decoration-color: #0087ff\">Conv1D</span>)     │ (<span style=\"color: #00d7ff; text-decoration-color: #00d7ff\">None</span>, <span style=\"color: #00af00; text-decoration-color: #00af00\">64</span>, <span style=\"color: #00af00; text-decoration-color: #00af00\">48</span>)    │      <span style=\"color: #00af00; text-decoration-color: #00af00\">1,248</span> │ zero_padding1d[<span style=\"color: #00af00; text-decoration-color: #00af00\">0</span>… │\n",
       "├─────────────────────┼───────────────────┼────────────┼───────────────────┤\n",
       "│ functional_1        │ (<span style=\"color: #00d7ff; text-decoration-color: #00d7ff\">None</span>, <span style=\"color: #00af00; text-decoration-color: #00af00\">64</span>, <span style=\"color: #00af00; text-decoration-color: #00af00\">256</span>)   │  <span style=\"color: #00af00; text-decoration-color: #00af00\">9,722,080</span> │ conv1d[<span style=\"color: #00af00; text-decoration-color: #00af00\">0</span>][<span style=\"color: #00af00; text-decoration-color: #00af00\">0</span>]      │\n",
       "│ (<span style=\"color: #0087ff; text-decoration-color: #0087ff\">Functional</span>)        │                   │            │                   │\n",
       "├─────────────────────┼───────────────────┼────────────┼───────────────────┤\n",
       "│ get_item_3          │ (<span style=\"color: #00d7ff; text-decoration-color: #00d7ff\">None</span>, <span style=\"color: #00af00; text-decoration-color: #00af00\">60</span>, <span style=\"color: #00af00; text-decoration-color: #00af00\">256</span>)   │          <span style=\"color: #00af00; text-decoration-color: #00af00\">0</span> │ functional_1[<span style=\"color: #00af00; text-decoration-color: #00af00\">0</span>][<span style=\"color: #00af00; text-decoration-color: #00af00\">…</span> │\n",
       "│ (<span style=\"color: #0087ff; text-decoration-color: #0087ff\">GetItem</span>)           │                   │            │                   │\n",
       "├─────────────────────┼───────────────────┼────────────┼───────────────────┤\n",
       "│ conv1d_49 (<span style=\"color: #0087ff; text-decoration-color: #0087ff\">Conv1D</span>)  │ (<span style=\"color: #00d7ff; text-decoration-color: #00d7ff\">None</span>, <span style=\"color: #00af00; text-decoration-color: #00af00\">60</span>, <span style=\"color: #00af00; text-decoration-color: #00af00\">14</span>)    │      <span style=\"color: #00af00; text-decoration-color: #00af00\">3,598</span> │ get_item_3[<span style=\"color: #00af00; text-decoration-color: #00af00\">0</span>][<span style=\"color: #00af00; text-decoration-color: #00af00\">0</span>]  │\n",
       "├─────────────────────┼───────────────────┼────────────┼───────────────────┤\n",
       "│ get_item_4          │ (<span style=\"color: #00d7ff; text-decoration-color: #00d7ff\">None</span>, <span style=\"color: #00af00; text-decoration-color: #00af00\">60</span>, <span style=\"color: #00af00; text-decoration-color: #00af00\">6</span>)     │          <span style=\"color: #00af00; text-decoration-color: #00af00\">0</span> │ conv1d_49[<span style=\"color: #00af00; text-decoration-color: #00af00\">0</span>][<span style=\"color: #00af00; text-decoration-color: #00af00\">0</span>]   │\n",
       "│ (<span style=\"color: #0087ff; text-decoration-color: #0087ff\">GetItem</span>)           │                   │            │                   │\n",
       "├─────────────────────┼───────────────────┼────────────┼───────────────────┤\n",
       "│ transpose_2         │ (<span style=\"color: #00d7ff; text-decoration-color: #00d7ff\">None</span>, <span style=\"color: #00af00; text-decoration-color: #00af00\">6</span>, <span style=\"color: #00af00; text-decoration-color: #00af00\">60</span>)     │          <span style=\"color: #00af00; text-decoration-color: #00af00\">0</span> │ get_item_4[<span style=\"color: #00af00; text-decoration-color: #00af00\">0</span>][<span style=\"color: #00af00; text-decoration-color: #00af00\">0</span>]  │\n",
       "│ (<span style=\"color: #0087ff; text-decoration-color: #0087ff\">Transpose</span>)         │                   │            │                   │\n",
       "├─────────────────────┼───────────────────┼────────────┼───────────────────┤\n",
       "│ get_item_5          │ (<span style=\"color: #00d7ff; text-decoration-color: #00d7ff\">None</span>, <span style=\"color: #00af00; text-decoration-color: #00af00\">60</span>, <span style=\"color: #00af00; text-decoration-color: #00af00\">8</span>)     │          <span style=\"color: #00af00; text-decoration-color: #00af00\">0</span> │ conv1d_49[<span style=\"color: #00af00; text-decoration-color: #00af00\">0</span>][<span style=\"color: #00af00; text-decoration-color: #00af00\">0</span>]   │\n",
       "│ (<span style=\"color: #0087ff; text-decoration-color: #0087ff\">GetItem</span>)           │                   │            │                   │\n",
       "├─────────────────────┼───────────────────┼────────────┼───────────────────┤\n",
       "│ flatten (<span style=\"color: #0087ff; text-decoration-color: #0087ff\">Flatten</span>)   │ (<span style=\"color: #00d7ff; text-decoration-color: #00d7ff\">None</span>, <span style=\"color: #00af00; text-decoration-color: #00af00\">360</span>)       │          <span style=\"color: #00af00; text-decoration-color: #00af00\">0</span> │ transpose_2[<span style=\"color: #00af00; text-decoration-color: #00af00\">0</span>][<span style=\"color: #00af00; text-decoration-color: #00af00\">0</span>] │\n",
       "├─────────────────────┼───────────────────┼────────────┼───────────────────┤\n",
       "│ mean (<span style=\"color: #0087ff; text-decoration-color: #0087ff\">Mean</span>)         │ (<span style=\"color: #00d7ff; text-decoration-color: #00d7ff\">None</span>, <span style=\"color: #00af00; text-decoration-color: #00af00\">8</span>)         │          <span style=\"color: #00af00; text-decoration-color: #00af00\">0</span> │ get_item_5[<span style=\"color: #00af00; text-decoration-color: #00af00\">0</span>][<span style=\"color: #00af00; text-decoration-color: #00af00\">0</span>]  │\n",
       "├─────────────────────┼───────────────────┼────────────┼───────────────────┤\n",
       "│ concatenate_1       │ (<span style=\"color: #00d7ff; text-decoration-color: #00d7ff\">None</span>, <span style=\"color: #00af00; text-decoration-color: #00af00\">368</span>)       │          <span style=\"color: #00af00; text-decoration-color: #00af00\">0</span> │ flatten[<span style=\"color: #00af00; text-decoration-color: #00af00\">0</span>][<span style=\"color: #00af00; text-decoration-color: #00af00\">0</span>],    │\n",
       "│ (<span style=\"color: #0087ff; text-decoration-color: #0087ff\">Concatenate</span>)       │                   │            │ mean[<span style=\"color: #00af00; text-decoration-color: #00af00\">0</span>][<span style=\"color: #00af00; text-decoration-color: #00af00\">0</span>]        │\n",
       "└─────────────────────┴───────────────────┴────────────┴───────────────────┘\n",
       "</pre>\n"
      ],
      "text/plain": [
       "┏━━━━━━━━━━━━━━━━━━━━━┳━━━━━━━━━━━━━━━━━━━┳━━━━━━━━━━━━┳━━━━━━━━━━━━━━━━━━━┓\n",
       "┃\u001b[1m \u001b[0m\u001b[1mLayer (type)       \u001b[0m\u001b[1m \u001b[0m┃\u001b[1m \u001b[0m\u001b[1mOutput Shape     \u001b[0m\u001b[1m \u001b[0m┃\u001b[1m \u001b[0m\u001b[1m   Param #\u001b[0m\u001b[1m \u001b[0m┃\u001b[1m \u001b[0m\u001b[1mConnected to     \u001b[0m\u001b[1m \u001b[0m┃\n",
       "┡━━━━━━━━━━━━━━━━━━━━━╇━━━━━━━━━━━━━━━━━━━╇━━━━━━━━━━━━╇━━━━━━━━━━━━━━━━━━━┩\n",
       "│ input_layer         │ (\u001b[38;5;45mNone\u001b[0m, \u001b[38;5;34m556\u001b[0m)       │          \u001b[38;5;34m0\u001b[0m │ -                 │\n",
       "│ (\u001b[38;5;33mInputLayer\u001b[0m)        │                   │            │                   │\n",
       "├─────────────────────┼───────────────────┼────────────┼───────────────────┤\n",
       "│ normalization       │ (\u001b[38;5;45mNone\u001b[0m, \u001b[38;5;34m556\u001b[0m)       │          \u001b[38;5;34m0\u001b[0m │ input_layer[\u001b[38;5;34m0\u001b[0m][\u001b[38;5;34m0\u001b[0m] │\n",
       "│ (\u001b[38;5;33mNormalization\u001b[0m)     │                   │            │                   │\n",
       "├─────────────────────┼───────────────────┼────────────┼───────────────────┤\n",
       "│ get_item (\u001b[38;5;33mGetItem\u001b[0m)  │ (\u001b[38;5;45mNone\u001b[0m, \u001b[38;5;34m360\u001b[0m)       │          \u001b[38;5;34m0\u001b[0m │ normalization[\u001b[38;5;34m0\u001b[0m]… │\n",
       "├─────────────────────┼───────────────────┼────────────┼───────────────────┤\n",
       "│ get_item_1          │ (\u001b[38;5;45mNone\u001b[0m, \u001b[38;5;34m180\u001b[0m)       │          \u001b[38;5;34m0\u001b[0m │ normalization[\u001b[38;5;34m0\u001b[0m]… │\n",
       "│ (\u001b[38;5;33mGetItem\u001b[0m)           │                   │            │                   │\n",
       "├─────────────────────┼───────────────────┼────────────┼───────────────────┤\n",
       "│ get_item_2          │ (\u001b[38;5;45mNone\u001b[0m, \u001b[38;5;34m16\u001b[0m)        │          \u001b[38;5;34m0\u001b[0m │ normalization[\u001b[38;5;34m0\u001b[0m]… │\n",
       "│ (\u001b[38;5;33mGetItem\u001b[0m)           │                   │            │                   │\n",
       "├─────────────────────┼───────────────────┼────────────┼───────────────────┤\n",
       "│ reshape (\u001b[38;5;33mReshape\u001b[0m)   │ (\u001b[38;5;45mNone\u001b[0m, \u001b[38;5;34m6\u001b[0m, \u001b[38;5;34m60\u001b[0m)     │          \u001b[38;5;34m0\u001b[0m │ get_item[\u001b[38;5;34m0\u001b[0m][\u001b[38;5;34m0\u001b[0m]    │\n",
       "├─────────────────────┼───────────────────┼────────────┼───────────────────┤\n",
       "│ reshape_1 (\u001b[38;5;33mReshape\u001b[0m) │ (\u001b[38;5;45mNone\u001b[0m, \u001b[38;5;34m3\u001b[0m, \u001b[38;5;34m60\u001b[0m)     │          \u001b[38;5;34m0\u001b[0m │ get_item_1[\u001b[38;5;34m0\u001b[0m][\u001b[38;5;34m0\u001b[0m]  │\n",
       "├─────────────────────┼───────────────────┼────────────┼───────────────────┤\n",
       "│ reshape_2 (\u001b[38;5;33mReshape\u001b[0m) │ (\u001b[38;5;45mNone\u001b[0m, \u001b[38;5;34m1\u001b[0m, \u001b[38;5;34m16\u001b[0m)     │          \u001b[38;5;34m0\u001b[0m │ get_item_2[\u001b[38;5;34m0\u001b[0m][\u001b[38;5;34m0\u001b[0m]  │\n",
       "├─────────────────────┼───────────────────┼────────────┼───────────────────┤\n",
       "│ transpose           │ (\u001b[38;5;45mNone\u001b[0m, \u001b[38;5;34m60\u001b[0m, \u001b[38;5;34m6\u001b[0m)     │          \u001b[38;5;34m0\u001b[0m │ reshape[\u001b[38;5;34m0\u001b[0m][\u001b[38;5;34m0\u001b[0m]     │\n",
       "│ (\u001b[38;5;33mTranspose\u001b[0m)         │                   │            │                   │\n",
       "├─────────────────────┼───────────────────┼────────────┼───────────────────┤\n",
       "│ transpose_1         │ (\u001b[38;5;45mNone\u001b[0m, \u001b[38;5;34m60\u001b[0m, \u001b[38;5;34m3\u001b[0m)     │          \u001b[38;5;34m0\u001b[0m │ reshape_1[\u001b[38;5;34m0\u001b[0m][\u001b[38;5;34m0\u001b[0m]   │\n",
       "│ (\u001b[38;5;33mTranspose\u001b[0m)         │                   │            │                   │\n",
       "├─────────────────────┼───────────────────┼────────────┼───────────────────┤\n",
       "│ repeat (\u001b[38;5;33mRepeat\u001b[0m)     │ (\u001b[38;5;45mNone\u001b[0m, \u001b[38;5;34m60\u001b[0m, \u001b[38;5;34m16\u001b[0m)    │          \u001b[38;5;34m0\u001b[0m │ reshape_2[\u001b[38;5;34m0\u001b[0m][\u001b[38;5;34m0\u001b[0m]   │\n",
       "├─────────────────────┼───────────────────┼────────────┼───────────────────┤\n",
       "│ concatenate         │ (\u001b[38;5;45mNone\u001b[0m, \u001b[38;5;34m60\u001b[0m, \u001b[38;5;34m25\u001b[0m)    │          \u001b[38;5;34m0\u001b[0m │ transpose[\u001b[38;5;34m0\u001b[0m][\u001b[38;5;34m0\u001b[0m],  │\n",
       "│ (\u001b[38;5;33mConcatenate\u001b[0m)       │                   │            │ transpose_1[\u001b[38;5;34m0\u001b[0m][\u001b[38;5;34m0\u001b[0m… │\n",
       "│                     │                   │            │ repeat[\u001b[38;5;34m0\u001b[0m][\u001b[38;5;34m0\u001b[0m]      │\n",
       "├─────────────────────┼───────────────────┼────────────┼───────────────────┤\n",
       "│ zero_padding1d      │ (\u001b[38;5;45mNone\u001b[0m, \u001b[38;5;34m64\u001b[0m, \u001b[38;5;34m25\u001b[0m)    │          \u001b[38;5;34m0\u001b[0m │ concatenate[\u001b[38;5;34m0\u001b[0m][\u001b[38;5;34m0\u001b[0m] │\n",
       "│ (\u001b[38;5;33mZeroPadding1D\u001b[0m)     │                   │            │                   │\n",
       "├─────────────────────┼───────────────────┼────────────┼───────────────────┤\n",
       "│ conv1d (\u001b[38;5;33mConv1D\u001b[0m)     │ (\u001b[38;5;45mNone\u001b[0m, \u001b[38;5;34m64\u001b[0m, \u001b[38;5;34m48\u001b[0m)    │      \u001b[38;5;34m1,248\u001b[0m │ zero_padding1d[\u001b[38;5;34m0\u001b[0m… │\n",
       "├─────────────────────┼───────────────────┼────────────┼───────────────────┤\n",
       "│ functional_1        │ (\u001b[38;5;45mNone\u001b[0m, \u001b[38;5;34m64\u001b[0m, \u001b[38;5;34m256\u001b[0m)   │  \u001b[38;5;34m9,722,080\u001b[0m │ conv1d[\u001b[38;5;34m0\u001b[0m][\u001b[38;5;34m0\u001b[0m]      │\n",
       "│ (\u001b[38;5;33mFunctional\u001b[0m)        │                   │            │                   │\n",
       "├─────────────────────┼───────────────────┼────────────┼───────────────────┤\n",
       "│ get_item_3          │ (\u001b[38;5;45mNone\u001b[0m, \u001b[38;5;34m60\u001b[0m, \u001b[38;5;34m256\u001b[0m)   │          \u001b[38;5;34m0\u001b[0m │ functional_1[\u001b[38;5;34m0\u001b[0m][\u001b[38;5;34m…\u001b[0m │\n",
       "│ (\u001b[38;5;33mGetItem\u001b[0m)           │                   │            │                   │\n",
       "├─────────────────────┼───────────────────┼────────────┼───────────────────┤\n",
       "│ conv1d_49 (\u001b[38;5;33mConv1D\u001b[0m)  │ (\u001b[38;5;45mNone\u001b[0m, \u001b[38;5;34m60\u001b[0m, \u001b[38;5;34m14\u001b[0m)    │      \u001b[38;5;34m3,598\u001b[0m │ get_item_3[\u001b[38;5;34m0\u001b[0m][\u001b[38;5;34m0\u001b[0m]  │\n",
       "├─────────────────────┼───────────────────┼────────────┼───────────────────┤\n",
       "│ get_item_4          │ (\u001b[38;5;45mNone\u001b[0m, \u001b[38;5;34m60\u001b[0m, \u001b[38;5;34m6\u001b[0m)     │          \u001b[38;5;34m0\u001b[0m │ conv1d_49[\u001b[38;5;34m0\u001b[0m][\u001b[38;5;34m0\u001b[0m]   │\n",
       "│ (\u001b[38;5;33mGetItem\u001b[0m)           │                   │            │                   │\n",
       "├─────────────────────┼───────────────────┼────────────┼───────────────────┤\n",
       "│ transpose_2         │ (\u001b[38;5;45mNone\u001b[0m, \u001b[38;5;34m6\u001b[0m, \u001b[38;5;34m60\u001b[0m)     │          \u001b[38;5;34m0\u001b[0m │ get_item_4[\u001b[38;5;34m0\u001b[0m][\u001b[38;5;34m0\u001b[0m]  │\n",
       "│ (\u001b[38;5;33mTranspose\u001b[0m)         │                   │            │                   │\n",
       "├─────────────────────┼───────────────────┼────────────┼───────────────────┤\n",
       "│ get_item_5          │ (\u001b[38;5;45mNone\u001b[0m, \u001b[38;5;34m60\u001b[0m, \u001b[38;5;34m8\u001b[0m)     │          \u001b[38;5;34m0\u001b[0m │ conv1d_49[\u001b[38;5;34m0\u001b[0m][\u001b[38;5;34m0\u001b[0m]   │\n",
       "│ (\u001b[38;5;33mGetItem\u001b[0m)           │                   │            │                   │\n",
       "├─────────────────────┼───────────────────┼────────────┼───────────────────┤\n",
       "│ flatten (\u001b[38;5;33mFlatten\u001b[0m)   │ (\u001b[38;5;45mNone\u001b[0m, \u001b[38;5;34m360\u001b[0m)       │          \u001b[38;5;34m0\u001b[0m │ transpose_2[\u001b[38;5;34m0\u001b[0m][\u001b[38;5;34m0\u001b[0m] │\n",
       "├─────────────────────┼───────────────────┼────────────┼───────────────────┤\n",
       "│ mean (\u001b[38;5;33mMean\u001b[0m)         │ (\u001b[38;5;45mNone\u001b[0m, \u001b[38;5;34m8\u001b[0m)         │          \u001b[38;5;34m0\u001b[0m │ get_item_5[\u001b[38;5;34m0\u001b[0m][\u001b[38;5;34m0\u001b[0m]  │\n",
       "├─────────────────────┼───────────────────┼────────────┼───────────────────┤\n",
       "│ concatenate_1       │ (\u001b[38;5;45mNone\u001b[0m, \u001b[38;5;34m368\u001b[0m)       │          \u001b[38;5;34m0\u001b[0m │ flatten[\u001b[38;5;34m0\u001b[0m][\u001b[38;5;34m0\u001b[0m],    │\n",
       "│ (\u001b[38;5;33mConcatenate\u001b[0m)       │                   │            │ mean[\u001b[38;5;34m0\u001b[0m][\u001b[38;5;34m0\u001b[0m]        │\n",
       "└─────────────────────┴───────────────────┴────────────┴───────────────────┘\n"
      ]
     },
     "metadata": {},
     "output_type": "display_data"
    },
    {
     "data": {
      "text/html": [
       "<pre style=\"white-space:pre;overflow-x:auto;line-height:normal;font-family:Menlo,'DejaVu Sans Mono',consolas,'Courier New',monospace\"><span style=\"font-weight: bold\"> Total params: </span><span style=\"color: #00af00; text-decoration-color: #00af00\">9,726,926</span> (37.11 MB)\n",
       "</pre>\n"
      ],
      "text/plain": [
       "\u001b[1m Total params: \u001b[0m\u001b[38;5;34m9,726,926\u001b[0m (37.11 MB)\n"
      ]
     },
     "metadata": {},
     "output_type": "display_data"
    },
    {
     "data": {
      "text/html": [
       "<pre style=\"white-space:pre;overflow-x:auto;line-height:normal;font-family:Menlo,'DejaVu Sans Mono',consolas,'Courier New',monospace\"><span style=\"font-weight: bold\"> Trainable params: </span><span style=\"color: #00af00; text-decoration-color: #00af00\">9,726,926</span> (37.11 MB)\n",
       "</pre>\n"
      ],
      "text/plain": [
       "\u001b[1m Trainable params: \u001b[0m\u001b[38;5;34m9,726,926\u001b[0m (37.11 MB)\n"
      ]
     },
     "metadata": {},
     "output_type": "display_data"
    },
    {
     "data": {
      "text/html": [
       "<pre style=\"white-space:pre;overflow-x:auto;line-height:normal;font-family:Menlo,'DejaVu Sans Mono',consolas,'Courier New',monospace\"><span style=\"font-weight: bold\"> Non-trainable params: </span><span style=\"color: #00af00; text-decoration-color: #00af00\">0</span> (0.00 B)\n",
       "</pre>\n"
      ],
      "text/plain": [
       "\u001b[1m Non-trainable params: \u001b[0m\u001b[38;5;34m0\u001b[0m (0.00 B)\n"
      ]
     },
     "metadata": {},
     "output_type": "display_data"
    }
   ],
   "source": [
    "    # Build & compile the model\n",
    "    model.compile(\n",
    "        loss=keras.losses.Huber(delta=1.0), \n",
    "        optimizer=keras.optimizers.Adam(1e-6),\n",
    "        metrics=[keras.metrics.MeanSquaredError(), \n",
    "                     keras.metrics.R2Score(class_aggregation=\"variance_weighted_average\"), \n",
    "        ]  # Updated R2Score\n",
    "    )\n",
    "    model.build(tuple(ds_train.element_spec[0].shape))\n",
    "    model.summary()"
   ]
  },
  {
   "cell_type": "code",
   "execution_count": 72,
   "id": "c03a019d",
   "metadata": {
    "_kg_hide-output": true,
    "papermill": {
     "duration": 0.053791,
     "end_time": "2024-07-08T02:21:05.866065",
     "exception": false,
     "start_time": "2024-07-08T02:21:05.812274",
     "status": "completed"
    },
    "tags": []
   },
   "outputs": [
    {
     "name": "stdout",
     "output_type": "stream",
     "text": [
      "WARNING:tensorflow:AutoGraph could not transform <function <lambda> at 0x7f28587de7a0> and will run it as-is.\n",
      "Cause: could not parse the source code of <function <lambda> at 0x7f28587de7a0>: no matching AST found among candidates:\n",
      "\n",
      "To silence this warning, decorate the function with @tf.autograph.experimental.do_not_convert\n",
      "WARNING: AutoGraph could not transform <function <lambda> at 0x7f28587de7a0> and will run it as-is.\n",
      "Cause: could not parse the source code of <function <lambda> at 0x7f28587de7a0>: no matching AST found among candidates:\n",
      "\n",
      "To silence this warning, decorate the function with @tf.autograph.experimental.do_not_convert\n",
      "WARNING:tensorflow:AutoGraph could not transform <function <lambda> at 0x7f29d06440e0> and will run it as-is.\n",
      "Cause: could not parse the source code of <function <lambda> at 0x7f29d06440e0>: no matching AST found among candidates:\n",
      "\n",
      "To silence this warning, decorate the function with @tf.autograph.experimental.do_not_convert\n",
      "WARNING: AutoGraph could not transform <function <lambda> at 0x7f29d06440e0> and will run it as-is.\n",
      "Cause: could not parse the source code of <function <lambda> at 0x7f29d06440e0>: no matching AST found among candidates:\n",
      "\n",
      "To silence this warning, decorate the function with @tf.autograph.experimental.do_not_convert\n",
      "Epoch 1/15\n",
      "  19531/Unknown \u001b[1m699s\u001b[0m 35ms/step - loss: 0.0633 - mean_squared_error: 0.2252 - r2_score: 0.7163"
     ]
    },
    {
     "name": "stderr",
     "output_type": "stream",
     "text": [
      "2024-07-16 00:58:23.708609: W tensorflow/core/framework/local_rendezvous.cc:404] Local rendezvous is aborting with status: OUT_OF_RANGE: End of sequence\n"
     ]
    },
    {
     "name": "stdout",
     "output_type": "stream",
     "text": [
      "  19532/Unknown \u001b[1m718s\u001b[0m 36ms/step - loss: 0.0633 - mean_squared_error: 0.2252 - r2_score: 0.7163"
     ]
    },
    {
     "name": "stderr",
     "output_type": "stream",
     "text": [
      "2024-07-16 00:58:49.924388: W tensorflow/core/framework/local_rendezvous.cc:404] Local rendezvous is aborting with status: OUT_OF_RANGE: End of sequence\n"
     ]
    },
    {
     "name": "stdout",
     "output_type": "stream",
     "text": [
      "\n",
      "Epoch 1: saving model to model_epoch_01.keras\n",
      "\u001b[1m19532/19532\u001b[0m \u001b[32m━━━━━━━━━━━━━━━━━━━━\u001b[0m\u001b[37m\u001b[0m \u001b[1m728s\u001b[0m 36ms/step - loss: 0.0633 - mean_squared_error: 0.2252 - r2_score: 0.7163 - val_loss: 0.0612 - val_mean_squared_error: 0.2119 - val_r2_score: 0.7104\n",
      "Epoch 2/15\n",
      "\u001b[1m   77/19532\u001b[0m \u001b[37m━━━━━━━━━━━━━━━━━━━━\u001b[0m \u001b[1m10:37\u001b[0m 33ms/step - loss: 0.0603 - mean_squared_error: 0.1914 - r2_score: 0.7368"
     ]
    },
    {
     "name": "stderr",
     "output_type": "stream",
     "text": [
      "Exception ignored in: <function _xla_gc_callback at 0x7f2dbfa1dda0>\n",
      "Traceback (most recent call last):\n",
      "  File \"/root/miniconda3/envs/tf/lib/python3.11/site-packages/jax/_src/lib/__init__.py\", line 96, in _xla_gc_callback\n",
      "    def _xla_gc_callback(*args):\n",
      "    \n",
      "KeyboardInterrupt: \n"
     ]
    },
    {
     "name": "stdout",
     "output_type": "stream",
     "text": [
      "\u001b[1m   87/19532\u001b[0m \u001b[37m━━━━━━━━━━━━━━━━━━━━\u001b[0m \u001b[1m10:36\u001b[0m 33ms/step - loss: 0.0604 - mean_squared_error: 0.1921 - r2_score: 0.7369"
     ]
    },
    {
     "name": "stderr",
     "output_type": "stream",
     "text": [
      "Exception ignored in: <function _xla_gc_callback at 0x7f2dbfa1dda0>\n",
      "Traceback (most recent call last):\n",
      "  File \"/root/miniconda3/envs/tf/lib/python3.11/site-packages/jax/_src/lib/__init__.py\", line 96, in _xla_gc_callback\n",
      "    def _xla_gc_callback(*args):\n",
      "    \n",
      "KeyboardInterrupt: \n"
     ]
    },
    {
     "name": "stdout",
     "output_type": "stream",
     "text": [
      "\u001b[1m  109/19532\u001b[0m \u001b[37m━━━━━━━━━━━━━━━━━━━━\u001b[0m \u001b[1m10:36\u001b[0m 33ms/step - loss: 0.0606 - mean_squared_error: 0.1926 - r2_score: 0.7371"
     ]
    },
    {
     "ename": "KeyboardInterrupt",
     "evalue": "",
     "output_type": "error",
     "traceback": [
      "\u001b[0;31m---------------------------------------------------------------------------\u001b[0m",
      "\u001b[0;31mKeyboardInterrupt\u001b[0m                         Traceback (most recent call last)",
      "File \u001b[0;32m<timed exec>:26\u001b[0m\n",
      "File \u001b[0;32m~/miniconda3/envs/tf/lib/python3.11/site-packages/keras/src/utils/traceback_utils.py:117\u001b[0m, in \u001b[0;36mfilter_traceback.<locals>.error_handler\u001b[0;34m(*args, **kwargs)\u001b[0m\n\u001b[1;32m    115\u001b[0m filtered_tb \u001b[38;5;241m=\u001b[39m \u001b[38;5;28;01mNone\u001b[39;00m\n\u001b[1;32m    116\u001b[0m \u001b[38;5;28;01mtry\u001b[39;00m:\n\u001b[0;32m--> 117\u001b[0m     \u001b[38;5;28;01mreturn\u001b[39;00m fn(\u001b[38;5;241m*\u001b[39margs, \u001b[38;5;241m*\u001b[39m\u001b[38;5;241m*\u001b[39mkwargs)\n\u001b[1;32m    118\u001b[0m \u001b[38;5;28;01mexcept\u001b[39;00m \u001b[38;5;167;01mException\u001b[39;00m \u001b[38;5;28;01mas\u001b[39;00m e:\n\u001b[1;32m    119\u001b[0m     filtered_tb \u001b[38;5;241m=\u001b[39m _process_traceback_frames(e\u001b[38;5;241m.\u001b[39m__traceback__)\n",
      "File \u001b[0;32m~/miniconda3/envs/tf/lib/python3.11/site-packages/keras/src/backend/jax/trainer.py:432\u001b[0m, in \u001b[0;36mJAXTrainer.fit\u001b[0;34m(self, x, y, batch_size, epochs, verbose, callbacks, validation_split, validation_data, shuffle, class_weight, sample_weight, initial_epoch, steps_per_epoch, validation_steps, validation_batch_size, validation_freq)\u001b[0m\n\u001b[1;32m    423\u001b[0m (\n\u001b[1;32m    424\u001b[0m     trainable_variables,\n\u001b[1;32m    425\u001b[0m     non_trainable_variables,\n\u001b[1;32m    426\u001b[0m     optimizer_variables,\n\u001b[1;32m    427\u001b[0m     metrics_variables,\n\u001b[1;32m    428\u001b[0m ) \u001b[38;5;241m=\u001b[39m state\n\u001b[1;32m    430\u001b[0m \u001b[38;5;66;03m# Setting _jax_state enables callbacks to force a state sync\u001b[39;00m\n\u001b[1;32m    431\u001b[0m \u001b[38;5;66;03m# if they need to.\u001b[39;00m\n\u001b[0;32m--> 432\u001b[0m \u001b[38;5;28mself\u001b[39m\u001b[38;5;241m.\u001b[39m_jax_state \u001b[38;5;241m=\u001b[39m {\n\u001b[1;32m    433\u001b[0m     \u001b[38;5;124m\"\u001b[39m\u001b[38;5;124mtrainable_variables\u001b[39m\u001b[38;5;124m\"\u001b[39m: trainable_variables,\n\u001b[1;32m    434\u001b[0m     \u001b[38;5;124m\"\u001b[39m\u001b[38;5;124mnon_trainable_variables\u001b[39m\u001b[38;5;124m\"\u001b[39m: non_trainable_variables,\n\u001b[1;32m    435\u001b[0m     \u001b[38;5;124m\"\u001b[39m\u001b[38;5;124moptimizer_variables\u001b[39m\u001b[38;5;124m\"\u001b[39m: optimizer_variables,\n\u001b[1;32m    436\u001b[0m     \u001b[38;5;124m\"\u001b[39m\u001b[38;5;124mmetrics_variables\u001b[39m\u001b[38;5;124m\"\u001b[39m: metrics_variables,\n\u001b[1;32m    437\u001b[0m }\n\u001b[1;32m    439\u001b[0m \u001b[38;5;66;03m# Callbacks\u001b[39;00m\n\u001b[1;32m    440\u001b[0m logs \u001b[38;5;241m=\u001b[39m \u001b[38;5;28mself\u001b[39m\u001b[38;5;241m.\u001b[39m_pythonify_logs(logs)\n",
      "File \u001b[0;32m~/miniconda3/envs/tf/lib/python3.11/site-packages/keras/src/layers/layer.py:1357\u001b[0m, in \u001b[0;36mLayer.__setattr__\u001b[0;34m(self, name, value)\u001b[0m\n\u001b[1;32m   1355\u001b[0m \u001b[38;5;28;01melif\u001b[39;00m name \u001b[38;5;241m!=\u001b[39m \u001b[38;5;124m\"\u001b[39m\u001b[38;5;124m_tracker\u001b[39m\u001b[38;5;124m\"\u001b[39m:\n\u001b[1;32m   1356\u001b[0m     \u001b[38;5;28mself\u001b[39m\u001b[38;5;241m.\u001b[39m_initialize_tracker()\n\u001b[0;32m-> 1357\u001b[0m \u001b[38;5;28;01mreturn\u001b[39;00m \u001b[38;5;28msuper\u001b[39m()\u001b[38;5;241m.\u001b[39m\u001b[38;5;21m__setattr__\u001b[39m(name, value)\n",
      "\u001b[0;31mKeyboardInterrupt\u001b[0m: "
     ]
    }
   ],
   "source": [
    "%%time\n",
    "\n",
    "# Normalize target values for training and validation datasets\n",
    "ds_train_target_normalized = ds_train.map(lambda x, y: (x, (y - mean_y) / stdd_y))\n",
    "ds_valid_target_normalized = ds_valid.map(lambda x, y: (x, (y - mean_y) / stdd_y))\n",
    "\n",
    "if isTrain:\n",
    "    from tensorflow.keras.callbacks import ModelCheckpoint, EarlyStopping \n",
    "\n",
    "    # Model checkpoint callback\n",
    "    model_checkpoint = ModelCheckpoint(\n",
    "        filepath='model_epoch_{epoch:02d}.keras',  # Save model with epoch number\n",
    "        monitor='val_loss',  # Monitor validation loss\n",
    "        save_best_only=False,  # Save all models, not just the best one\n",
    "        save_weights_only=False,  # Save the entire model structure and weights\n",
    "        mode='min',  # 'min' indicates saving when the monitored value decreases\n",
    "        verbose=2  # Provide detailed logging\n",
    "    )\n",
    "\n",
    "    # Early stopping callback\n",
    "    early_stopping = EarlyStopping(\n",
    "        monitor='val_loss',  # Monitor validation loss\n",
    "        patience=early_patience,  # Number of epochs to wait before stopping\n",
    "        restore_best_weights=True  # Restore model weights from the epoch with the best value of the monitored quantity\n",
    "    )\n",
    "\n",
    "    # Train the model\n",
    "    history = model.fit(\n",
    "        ds_train_target_normalized,  # Training data\n",
    "        validation_data=ds_valid_target_normalized,  # Validation data\n",
    "        epochs=epochs,  # Number of epochs to train\n",
    "        verbose=1 if is_interactive() else 2,  # Verbose output\n",
    "        callbacks=[early_stopping, model_checkpoint]  # List of callbacks to apply during training\n",
    "    )\n"
   ]
  },
  {
   "cell_type": "code",
   "execution_count": 39,
   "id": "560cee57",
   "metadata": {
    "papermill": {
     "duration": 0.018715,
     "end_time": "2024-07-08T02:21:05.896393",
     "exception": false,
     "start_time": "2024-07-08T02:21:05.877678",
     "status": "completed"
    },
    "tags": []
   },
   "outputs": [
    {
     "data": {
      "image/png": "[encoded data removed]",
      "text/plain": [
       "<Figure size 640x480 with 1 Axes>"
      ]
     },
     "metadata": {},
     "output_type": "display_data"
    }
   ],
   "source": [
    "if isTrain:\n",
    "    plt.plot(history.history['loss'], color='tab:blue')\n",
    "    plt.plot(history.history['val_loss'], color='tab:red')\n",
    "    plt.yscale('log');"
   ]
  },
  {
   "cell_type": "code",
   "execution_count": 74,
   "id": "426826e9",
   "metadata": {
    "papermill": {
     "duration": 23.607537,
     "end_time": "2024-07-08T02:21:29.515502",
     "exception": false,
     "start_time": "2024-07-08T02:21:05.907965",
     "status": "completed"
    },
    "tags": []
   },
   "outputs": [
    {
     "name": "stderr",
     "output_type": "stream",
     "text": [
      "2024-07-16 00:59:33.748919: W tensorflow/core/framework/local_rendezvous.cc:404] Local rendezvous is aborting with status: OUT_OF_RANGE: End of sequence\n"
     ]
    },
    {
     "name": "stdout",
     "output_type": "stream",
     "text": [
      "    175/Unknown \u001b[1m7s\u001b[0m 21ms/step"
     ]
    },
    {
     "name": "stderr",
     "output_type": "stream",
     "text": [
      "2024-07-16 00:59:40.743327: W tensorflow/core/framework/local_rendezvous.cc:404] Local rendezvous is aborting with status: OUT_OF_RANGE: End of sequence\n"
     ]
    },
    {
     "name": "stdout",
     "output_type": "stream",
     "text": [
      "\u001b[1m179/179\u001b[0m \u001b[32m━━━━━━━━━━━━━━━━━━━━\u001b[0m\u001b[37m\u001b[0m \u001b[1m10s\u001b[0m 37ms/step\n"
     ]
    }
   ],
   "source": [
    "y_valid = np.concatenate([yb for _, yb in ds_valid])\n",
    "p_valid = model.predict(ds_valid, batch_size=BATCH_SIZE) * stdd_y + mean_y"
   ]
  },
  {
   "cell_type": "code",
   "execution_count": 75,
   "id": "ba5c77ae",
   "metadata": {
    "papermill": {
     "duration": 1.406122,
     "end_time": "2024-07-08T02:21:30.941097",
     "exception": false,
     "start_time": "2024-07-08T02:21:29.534975",
     "status": "completed"
    },
    "tags": []
   },
   "outputs": [
    {
     "name": "stdout",
     "output_type": "stream",
     "text": [
      "[ 9.89631951e-01  9.96568084e-01  9.98523593e-01  9.99173820e-01\n",
      "  9.99366701e-01  9.99490499e-01  9.99488890e-01  9.99385834e-01\n",
      "  9.99198437e-01  9.98960555e-01  9.98638988e-01  9.98307586e-01\n",
      "  9.97973919e-01  9.97585475e-01  9.97024477e-01  9.95710611e-01\n",
      "  9.76250470e-01  7.74313927e-01  6.27350450e-01  5.85993946e-01\n",
      "  6.33645535e-01  6.92188978e-01  7.02540398e-01  7.38424063e-01\n",
      "  7.78454423e-01  8.07247043e-01  8.44008982e-01  8.80223215e-01\n",
      "  8.97580326e-01  9.10086036e-01  9.18604851e-01  9.20523643e-01\n",
      "  9.17066574e-01  9.06780601e-01  8.91548634e-01  8.72441828e-01\n",
      "  8.49279881e-01  8.21467578e-01  7.95819283e-01  7.59953022e-01\n",
      "  7.21958518e-01  6.87346697e-01  6.60332382e-01  6.35298967e-01\n",
      "  6.23137176e-01  5.99296808e-01  5.70867479e-01  5.45919478e-01\n",
      "  5.32372594e-01  5.25080800e-01  5.12706161e-01  5.10571837e-01\n",
      "  5.09836495e-01  5.19596577e-01  5.31662226e-01  5.55640221e-01\n",
      "  5.79680324e-01  5.92866778e-01  6.36636317e-01  8.06331217e-01\n",
      " -8.43988061e-01 -1.08617520e+00  0.00000000e+00  0.00000000e+00\n",
      "  0.00000000e+00  0.00000000e+00  0.00000000e+00  0.00000000e+00\n",
      "  0.00000000e+00  0.00000000e+00  0.00000000e+00  0.00000000e+00\n",
      "  5.74456275e-01  7.95470178e-01  7.61279881e-01  4.30185318e-01\n",
      "  6.68363094e-01  5.85923195e-02  2.22357213e-01  4.98910785e-01\n",
      "  7.34038830e-01  7.22207725e-01  7.73159564e-01  8.21946740e-01\n",
      "  8.51290703e-01  8.58805418e-01  8.73072147e-01  8.90141785e-01\n",
      "  8.89484644e-01  8.86397958e-01  8.82429004e-01  8.57416153e-01\n",
      "  8.29045475e-01  7.87951052e-01  7.31814027e-01  6.61664128e-01\n",
      "  5.99308491e-01  5.42174578e-01  5.02321601e-01  4.49853778e-01\n",
      "  4.22101676e-01  4.08612549e-01  3.88411164e-01  3.98257315e-01\n",
      "  4.18358028e-01  4.09662783e-01  3.86131585e-01  3.74358475e-01\n",
      "  3.58944833e-01  3.58548641e-01  3.54124069e-01  3.61743510e-01\n",
      "  3.89750838e-01  4.20487523e-01  4.48886037e-01  4.72306252e-01\n",
      "  5.19865930e-01  5.61273098e-01  6.33673489e-01  6.58873558e-01\n",
      "  0.00000000e+00  0.00000000e+00  0.00000000e+00  0.00000000e+00\n",
      "  0.00000000e+00  0.00000000e+00  0.00000000e+00  0.00000000e+00\n",
      "  0.00000000e+00  0.00000000e+00  0.00000000e+00  0.00000000e+00\n",
      "  0.00000000e+00  0.00000000e+00  0.00000000e+00  0.00000000e+00\n",
      "  0.00000000e+00  0.00000000e+00  0.00000000e+00  0.00000000e+00\n",
      "  0.00000000e+00  0.00000000e+00  0.00000000e+00  0.00000000e+00\n",
      "  0.00000000e+00 -1.16556810e+07 -8.02538979e+11 -3.93398675e+06\n",
      " -2.01132917e+00  9.95086968e-01  8.60186577e-01  5.33201456e-01\n",
      "  4.36226547e-01  4.57400739e-01  4.61459696e-01  4.72857475e-01\n",
      "  4.64005649e-01  4.49964345e-01  4.46251273e-01  4.33063626e-01\n",
      "  4.32652116e-01  4.31357741e-01  4.22036171e-01  4.23701167e-01\n",
      "  4.26627040e-01  4.11953628e-01  4.09845173e-01  4.18864191e-01\n",
      "  4.27863479e-01  4.20438707e-01  4.15549397e-01  4.08054471e-01\n",
      "  4.07905161e-01  4.22395468e-01  4.94144142e-01  6.06115222e-01\n",
      "  7.08460569e-01  8.09905648e-01  8.62600863e-01  9.10096645e-01\n",
      "  0.00000000e+00  0.00000000e+00  0.00000000e+00  0.00000000e+00\n",
      "  0.00000000e+00  0.00000000e+00  0.00000000e+00  0.00000000e+00\n",
      "  0.00000000e+00  0.00000000e+00  0.00000000e+00  0.00000000e+00\n",
      " -5.33676688e+05 -5.70405224e+11 -1.85793519e+00  5.41352630e-01\n",
      "  7.62544572e-01  1.71647906e-01  2.74671435e-01  6.80707514e-01\n",
      "  6.44388616e-01  6.58409834e-01  6.27343655e-01  5.42202234e-01\n",
      "  5.60927987e-01  5.51805973e-01  5.36836743e-01  5.41119158e-01\n",
      "  5.34628868e-01  5.49525380e-01  5.76390386e-01  6.11453235e-01\n",
      "  6.31490707e-01  6.34900987e-01  6.37263417e-01  6.76731288e-01\n",
      "  7.04340577e-01  7.11230874e-01  6.99677706e-01  6.88676476e-01\n",
      "  6.62648201e-01  6.29813194e-01  6.22641265e-01  6.08372569e-01\n",
      "  6.12904429e-01  6.32388115e-01  6.52218819e-01  6.63029075e-01\n",
      "  6.70167208e-01  6.76187634e-01  7.15803266e-01  7.64526248e-01\n",
      "  7.85989821e-01  7.98680127e-01  8.20206165e-01  8.38447690e-01\n",
      "  8.61197710e-01  8.83240938e-01  8.91819537e-01  9.24021125e-01\n",
      "  0.00000000e+00  0.00000000e+00  0.00000000e+00  0.00000000e+00\n",
      "  0.00000000e+00  0.00000000e+00  0.00000000e+00  0.00000000e+00\n",
      "  0.00000000e+00  0.00000000e+00  0.00000000e+00  0.00000000e+00\n",
      "  8.98000121e-01  9.21997845e-01  9.23415065e-01  9.43251610e-01\n",
      "  9.36507225e-01  9.38174248e-01  9.18525100e-01  9.20097411e-01\n",
      "  8.73339891e-01  8.66822064e-01  8.06236386e-01  7.54524589e-01\n",
      "  7.44250417e-01  7.30534673e-01  7.00555682e-01  7.19549477e-01\n",
      "  6.81621969e-01  6.56222105e-01  6.13869548e-01  5.63012123e-01\n",
      "  5.25228500e-01  5.22155523e-01  5.04494309e-01  4.83995080e-01\n",
      "  4.76525187e-01  4.81954455e-01  5.34083962e-01  5.24245977e-01\n",
      "  5.10832906e-01  5.51971853e-01  5.74774742e-01  5.76161563e-01\n",
      "  6.08319879e-01  6.40737176e-01  6.69140935e-01  6.82153583e-01\n",
      "  7.07687259e-01  7.66174614e-01  8.26909840e-01  8.62426460e-01\n",
      "  8.82067859e-01  8.86332870e-01  8.88137817e-01  8.95991445e-01\n",
      "  8.99267077e-01  9.01370049e-01  8.81043732e-01  9.60624814e-01\n",
      "  0.00000000e+00  0.00000000e+00  0.00000000e+00  0.00000000e+00\n",
      "  0.00000000e+00  0.00000000e+00  0.00000000e+00  0.00000000e+00\n",
      "  0.00000000e+00  0.00000000e+00  0.00000000e+00  0.00000000e+00\n",
      "  9.16733444e-01  9.31305885e-01  9.35918212e-01  9.37580943e-01\n",
      "  9.37018812e-01  9.44794178e-01  9.36853647e-01  9.09906685e-01\n",
      "  8.43368530e-01  8.38061631e-01  7.98109055e-01  7.83474088e-01\n",
      "  7.38422871e-01  7.47515440e-01  7.49753416e-01  7.51733780e-01\n",
      "  7.19041467e-01  7.04647660e-01  7.18512893e-01  7.36769080e-01\n",
      "  7.21908331e-01  7.00224757e-01  7.06204414e-01  7.09452152e-01\n",
      "  6.91822290e-01  6.90192223e-01  7.01704085e-01  7.21625209e-01\n",
      "  7.12985516e-01  7.02944160e-01  6.82402134e-01  6.81829572e-01\n",
      "  6.71686530e-01  6.80422425e-01  7.21428752e-01  7.57312000e-01\n",
      "  7.91067123e-01  8.06476772e-01  8.26066434e-01  8.56455684e-01\n",
      "  8.73386025e-01  8.91457856e-01  9.01823878e-01  9.08955812e-01\n",
      "  9.17351007e-01  9.18124080e-01  9.02647376e-01  9.55872536e-01\n",
      "  9.93405163e-01  9.94911134e-01  9.52104449e-01  9.14044797e-01\n",
      "  9.84530509e-01  9.73687649e-01  9.80356753e-01  9.29698467e-01]\n"
     ]
    },
    {
     "data": {
      "text/plain": [
       "[<matplotlib.lines.Line2D at 0x7f27f44d15d0>]"
      ]
     },
     "execution_count": 75,
     "metadata": {},
     "output_type": "execute_result"
    },
    {
     "data": {
      "image/png": "[encoded data removed]",
      "text/plain": [
       "<Figure size 640x480 with 1 Axes>"
      ]
     },
     "metadata": {},
     "output_type": "display_data"
    }
   ],
   "source": [
    "scores_valid = np.array([metrics.r2_score(y_valid[:, i], p_valid[:, i]) for i in range(len(TARGETS))])\n",
    "print(scores_valid)\n",
    "plt.plot(scores_valid.clip(-1, 1))"
   ]
  },
  {
   "cell_type": "code",
   "execution_count": 76,
   "id": "0784da66",
   "metadata": {
    "papermill": {
     "duration": 0.028044,
     "end_time": "2024-07-08T02:21:30.988993",
     "exception": false,
     "start_time": "2024-07-08T02:21:30.960949",
     "status": "completed"
    },
    "tags": []
   },
   "outputs": [
    {
     "data": {
      "text/plain": [
       "'Number of under-performing targets: 80'"
      ]
     },
     "execution_count": 76,
     "metadata": {},
     "output_type": "execute_result"
    }
   ],
   "source": [
    "mask = scores_valid <= 1e-3\n",
    "f\"Number of under-performing targets: {sum(mask)}\""
   ]
  },
  {
   "cell_type": "code",
   "execution_count": 77,
   "id": "7a72e154",
   "metadata": {
    "papermill": {
     "duration": 0.027432,
     "end_time": "2024-07-08T02:21:31.036027",
     "exception": false,
     "start_time": "2024-07-08T02:21:31.008595",
     "status": "completed"
    },
    "tags": []
   },
   "outputs": [
    {
     "data": {
      "text/plain": [
       "'Clipped score: 0.5500237005560294'"
      ]
     },
     "execution_count": 77,
     "metadata": {},
     "output_type": "execute_result"
    }
   ],
   "source": [
    "f\"Clipped score: {scores_valid.clip(0, 1).mean()}\""
   ]
  },
  {
   "cell_type": "code",
   "execution_count": 22,
   "id": "93e51de9",
   "metadata": {
    "execution": {
     "iopub.execute_input": "2024-07-08T02:21:31.076701Z",
     "iopub.status.busy": "2024-07-08T02:21:31.076432Z",
     "iopub.status.idle": "2024-07-08T02:21:31.301212Z",
     "shell.execute_reply": "2024-07-08T02:21:31.300282Z"
    },
    "papermill": {
     "duration": 0.247273,
     "end_time": "2024-07-08T02:21:31.303109",
     "exception": false,
     "start_time": "2024-07-08T02:21:31.055836",
     "status": "completed"
    },
    "tags": []
   },
   "outputs": [],
   "source": [
    "del y_valid, p_valid\n",
    "gc.collect();"
   ]
  },
  {
   "cell_type": "markdown",
   "id": "3435ed81",
   "metadata": {
    "papermill": {
     "duration": 0.019761,
     "end_time": "2024-07-08T02:21:31.343232",
     "exception": false,
     "start_time": "2024-07-08T02:21:31.323471",
     "status": "completed"
    },
    "tags": []
   },
   "source": [
    "# Submission"
   ]
  },
  {
   "cell_type": "code",
   "execution_count": 23,
   "id": "c7256569",
   "metadata": {
    "execution": {
     "iopub.execute_input": "2024-07-08T02:21:31.384352Z",
     "iopub.status.busy": "2024-07-08T02:21:31.384004Z",
     "iopub.status.idle": "2024-07-08T02:21:34.734211Z",
     "shell.execute_reply": "2024-07-08T02:21:34.733141Z"
    },
    "papermill": {
     "duration": 3.373738,
     "end_time": "2024-07-08T02:21:34.736807",
     "exception": false,
     "start_time": "2024-07-08T02:21:31.363069",
     "status": "completed"
    },
    "tags": []
   },
   "outputs": [],
   "source": [
    "sample = pl.read_csv(\"/kaggle/input/leap-atmospheric-physics-ai-climsim/sample_submission.csv\")"
   ]
  },
  {
   "cell_type": "code",
   "execution_count": 24,
   "id": "6a4a059f",
   "metadata": {
    "execution": {
     "iopub.execute_input": "2024-07-08T02:21:34.780108Z",
     "iopub.status.busy": "2024-07-08T02:21:34.779730Z",
     "iopub.status.idle": "2024-07-08T02:22:03.179058Z",
     "shell.execute_reply": "2024-07-08T02:22:03.177899Z"
    },
    "papermill": {
     "duration": 28.425002,
     "end_time": "2024-07-08T02:22:03.182521",
     "exception": false,
     "start_time": "2024-07-08T02:21:34.757519",
     "status": "completed"
    },
    "tags": []
   },
   "outputs": [],
   "source": [
    "df_test = (\n",
    "    pl.scan_csv(\"/kaggle/input/leap-atmospheric-physics-ai-climsim/test.csv\")\n",
    "    .select(pl.exclude(\"sample_id\"))\n",
    "    .cast(pl.Float32)\n",
    "    .collect()\n",
    ")"
   ]
  },
  {
   "cell_type": "code",
   "execution_count": 25,
   "id": "8ba9d94f",
   "metadata": {
    "execution": {
     "iopub.execute_input": "2024-07-08T02:22:03.225060Z",
     "iopub.status.busy": "2024-07-08T02:22:03.224682Z",
     "iopub.status.idle": "2024-07-08T02:22:03.569091Z",
     "shell.execute_reply": "2024-07-08T02:22:03.567034Z"
    },
    "papermill": {
     "duration": 0.368362,
     "end_time": "2024-07-08T02:22:03.571753",
     "exception": false,
     "start_time": "2024-07-08T02:22:03.203391",
     "status": "completed"
    },
    "tags": []
   },
   "outputs": [],
   "source": [
    "gc.collect();"
   ]
  },
  {
   "cell_type": "code",
   "execution_count": 26,
   "id": "0f79c615",
   "metadata": {
    "execution": {
     "iopub.execute_input": "2024-07-08T02:22:03.615505Z",
     "iopub.status.busy": "2024-07-08T02:22:03.614479Z",
     "iopub.status.idle": "2024-07-08T02:23:11.899053Z",
     "shell.execute_reply": "2024-07-08T02:23:11.895624Z"
    },
    "papermill": {
     "duration": 68.309867,
     "end_time": "2024-07-08T02:23:11.902275",
     "exception": false,
     "start_time": "2024-07-08T02:22:03.592408",
     "status": "completed"
    },
    "tags": []
   },
   "outputs": [
    {
     "name": "stdout",
     "output_type": "stream",
     "text": [
      "Removed start: Traced<ShapedArray(float32[2048,2,256])>with<DynamicJaxprTrace(level=1/0)>\n",
      "Removed end: Traced<ShapedArray(float32[2048,2,256])>with<DynamicJaxprTrace(level=1/0)>\n"
     ]
    },
    {
     "name": "stderr",
     "output_type": "stream",
     "text": [
      "2024-07-08 02:22:10.472397: E external/xla/xla/service/slow_operation_alarm.cc:65] Trying algorithm eng0{} for conv (f32[2048,256,64]{2,1,0}, u8[0]{0}) custom-call(f32[2048,256,32]{2,1,0}, f32[256,256,2]{2,1,0}), window={size=2 stride=2}, dim_labels=bf0_oi0->bf0, custom_call_target=\"__cudnn$convBackwardInput\", backend_config={\"conv_result_scale\":1,\"activation_mode\":\"kNone\",\"side_input_scale\":0,\"leakyrelu_alpha\":0} is taking a while...\n",
      "2024-07-08 02:22:10.478198: E external/xla/xla/service/slow_operation_alarm.cc:133] The operation took 1.005972094s\n",
      "Trying algorithm eng0{} for conv (f32[2048,256,64]{2,1,0}, u8[0]{0}) custom-call(f32[2048,256,32]{2,1,0}, f32[256,256,2]{2,1,0}), window={size=2 stride=2}, dim_labels=bf0_oi0->bf0, custom_call_target=\"__cudnn$convBackwardInput\", backend_config={\"conv_result_scale\":1,\"activation_mode\":\"kNone\",\"side_input_scale\":0,\"leakyrelu_alpha\":0} is taking a while...\n"
     ]
    },
    {
     "name": "stdout",
     "output_type": "stream",
     "text": [
      "\u001b[1m305/306\u001b[0m \u001b[32m━━━━━━━━━━━━━━━━━━━\u001b[0m\u001b[37m━\u001b[0m \u001b[1m0s\u001b[0m 154ms/stepRemoved start: Traced<ShapedArray(float32[360,2,256])>with<DynamicJaxprTrace(level=1/0)>\n",
      "Removed end: Traced<ShapedArray(float32[360,2,256])>with<DynamicJaxprTrace(level=1/0)>\n",
      "\u001b[1m306/306\u001b[0m \u001b[32m━━━━━━━━━━━━━━━━━━━━\u001b[0m\u001b[37m\u001b[0m \u001b[1m61s\u001b[0m 169ms/step\n",
      "CPU times: user 44.3 s, sys: 26.9 s, total: 1min 11s\n",
      "Wall time: 1min 8s\n"
     ]
    }
   ],
   "source": [
    "%%time\n",
    "p_test = model.predict(df_test.to_numpy(), batch_size=4 * BATCH_SIZE) * stdd_y + mean_y\n",
    "p_test = np.array(p_test)\n",
    "p_test[:, mask] = mean_y[:, mask]"
   ]
  },
  {
   "cell_type": "code",
   "execution_count": 27,
   "id": "bc351b7f",
   "metadata": {
    "execution": {
     "iopub.execute_input": "2024-07-08T02:23:12.002182Z",
     "iopub.status.busy": "2024-07-08T02:23:12.001126Z",
     "iopub.status.idle": "2024-07-08T02:23:18.139479Z",
     "shell.execute_reply": "2024-07-08T02:23:18.138442Z"
    },
    "papermill": {
     "duration": 6.19104,
     "end_time": "2024-07-08T02:23:18.141969",
     "exception": false,
     "start_time": "2024-07-08T02:23:11.950929",
     "status": "completed"
    },
    "tags": []
   },
   "outputs": [],
   "source": [
    "# correction of ptend_q0002 targets (from 12 to 29)\n",
    "df_p_test = pd.DataFrame(p_test, columns=TARGETS)\n",
    "\n",
    "for idx in range(12, 30):\n",
    "    df_p_test[f\"ptend_q0002_{idx}\"] = -df_test[f\"state_q0002_{idx}\"].to_numpy() / 1200\n",
    "    \n",
    "p_test = df_p_test.values"
   ]
  },
  {
   "cell_type": "code",
   "execution_count": 28,
   "id": "724798f1",
   "metadata": {
    "execution": {
     "iopub.execute_input": "2024-07-08T02:23:18.231066Z",
     "iopub.status.busy": "2024-07-08T02:23:18.230539Z",
     "iopub.status.idle": "2024-07-08T02:25:23.401056Z",
     "shell.execute_reply": "2024-07-08T02:25:23.400188Z"
    },
    "papermill": {
     "duration": 125.217223,
     "end_time": "2024-07-08T02:25:23.403638",
     "exception": false,
     "start_time": "2024-07-08T02:23:18.186415",
     "status": "completed"
    },
    "tags": []
   },
   "outputs": [],
   "source": [
    "submission = sample.to_pandas()\n",
    "submission[TARGETS] = submission[TARGETS] * p_test\n",
    "pl.from_pandas(submission[[\"sample_id\"] + TARGETS]).write_csv(\"submission.csv\")"
   ]
  },
  {
   "cell_type": "markdown",
   "id": "918e42e4",
   "metadata": {
    "papermill": {
     "duration": 0.04392,
     "end_time": "2024-07-08T02:25:23.491892",
     "exception": false,
     "start_time": "2024-07-08T02:25:23.447972",
     "status": "completed"
    },
    "tags": []
   },
   "source": [
    "Potential Optimizations and Improvements to Consider:\n",
    "1、Fine-tune Learning Rate: Experiment with lowering the learning rate and continuing training for more epochs to potentially enhance model performance.\n",
    "\n",
    "2、Model Fusion: Integrate optimal results from open-source notebooks or other personal models to improve overall model performance through ensemble techniques.\n",
    "\n",
    "3、Explore Alternative Models: Investigate alternative models to explore potentially better results and identify models that may better fit the problem domain.\n",
    "\n",
    "4、Data Preprocessing and Post-processing: Optimize data preprocessing techniques and explore advanced post-processing methods to refine model outputs and improve accuracy.\n",
    "\n",
    "Wishing everyone the best of luck!"
   ]
  }
 ],
 "metadata": {
  "kaggle": {
   "accelerator": "gpu",
   "dataSources": [
    {
     "databundleVersionId": 8877088,
     "sourceId": 56537,
     "sourceType": "competition"
    },
    {
     "datasetId": 5004471,
     "sourceId": 8409068,
     "sourceType": "datasetVersion"
    },
    {
     "datasetId": 5351317,
     "sourceId": 8901446,
     "sourceType": "datasetVersion"
    }
   ],
   "dockerImageVersionId": 30699,
   "isGpuEnabled": true,
   "isInternetEnabled": true,
   "language": "python",
   "sourceType": "notebook"
  },
  "kernelspec": {
   "display_name": "tf",
   "language": "python",
   "name": "tf"
  },
  "language_info": {
   "codemirror_mode": {
    "name": "ipython",
    "version": 3
   },
   "file_extension": ".py",
   "mimetype": "text/x-python",
   "name": "python",
   "nbconvert_exporter": "python",
   "pygments_lexer": "ipython3",
   "version": "3.11.9"
  },
  "papermill": {
   "default_parameters": {},
   "duration": 670.483165,
   "end_time": "2024-07-08T02:25:27.557471",
   "environment_variables": {},
   "exception": null,
   "input_path": "__notebook__.ipynb",
   "output_path": "__notebook__.ipynb",
   "parameters": {},
   "start_time": "2024-07-08T02:14:17.074306",
   "version": "2.5.0"
  }
 },
 "nbformat": 4,
 "nbformat_minor": 5
}
